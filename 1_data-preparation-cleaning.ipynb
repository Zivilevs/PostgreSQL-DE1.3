{
 "cells": [
  {
   "cell_type": "markdown",
   "id": "c9926442",
   "metadata": {},
   "source": [
    "#### Notebook for data exporation, cleaning and preparation. To ensure consistent and ready to query data is loaded to database."
   ]
  },
  {
   "cell_type": "markdown",
   "id": "944e6daf",
   "metadata": {},
   "source": [
    "## Read dataset"
   ]
  },
  {
   "cell_type": "code",
   "execution_count": 1,
   "id": "d1bd8a30",
   "metadata": {},
   "outputs": [],
   "source": [
    "import sys\n",
    "import re\n",
    "import pandas as pd\n",
    "import numpy as np\n",
    "from ast import literal_eval\n",
    "pd.set_option('display.max_columns', None)\n",
    "pd.set_option('display.max_colwidth', 30)\n"
   ]
  },
  {
   "cell_type": "code",
   "execution_count": 2,
   "id": "3e4eedf0",
   "metadata": {},
   "outputs": [
    {
     "data": {
      "text/html": [
       "<div>\n",
       "<style scoped>\n",
       "    .dataframe tbody tr th:only-of-type {\n",
       "        vertical-align: middle;\n",
       "    }\n",
       "\n",
       "    .dataframe tbody tr th {\n",
       "        vertical-align: top;\n",
       "    }\n",
       "\n",
       "    .dataframe thead th {\n",
       "        text-align: right;\n",
       "    }\n",
       "</style>\n",
       "<table border=\"1\" class=\"dataframe\">\n",
       "  <thead>\n",
       "    <tr style=\"text-align: right;\">\n",
       "      <th></th>\n",
       "      <th>bookId</th>\n",
       "      <th>title</th>\n",
       "      <th>series</th>\n",
       "      <th>author</th>\n",
       "      <th>rating</th>\n",
       "      <th>description</th>\n",
       "      <th>language</th>\n",
       "      <th>isbn</th>\n",
       "      <th>genres</th>\n",
       "      <th>characters</th>\n",
       "      <th>bookFormat</th>\n",
       "      <th>edition</th>\n",
       "      <th>pages</th>\n",
       "      <th>publisher</th>\n",
       "      <th>publishDate</th>\n",
       "      <th>firstPublishDate</th>\n",
       "      <th>awards</th>\n",
       "      <th>numRatings</th>\n",
       "      <th>ratingsByStars</th>\n",
       "      <th>likedPercent</th>\n",
       "      <th>setting</th>\n",
       "      <th>coverImg</th>\n",
       "      <th>bbeScore</th>\n",
       "      <th>bbeVotes</th>\n",
       "      <th>price</th>\n",
       "    </tr>\n",
       "  </thead>\n",
       "  <tbody>\n",
       "    <tr>\n",
       "      <th>0</th>\n",
       "      <td>2767052-the-hunger-games</td>\n",
       "      <td>The Hunger Games</td>\n",
       "      <td>The Hunger Games #1</td>\n",
       "      <td>Suzanne Collins</td>\n",
       "      <td>4.33</td>\n",
       "      <td>WINNING MEANS FAME AND FOR...</td>\n",
       "      <td>English</td>\n",
       "      <td>9780439023481</td>\n",
       "      <td>['Young Adult', 'Fiction',...</td>\n",
       "      <td>['Katniss Everdeen', 'Peet...</td>\n",
       "      <td>Hardcover</td>\n",
       "      <td>First Edition</td>\n",
       "      <td>374</td>\n",
       "      <td>Scholastic Press</td>\n",
       "      <td>09/14/08</td>\n",
       "      <td>NaN</td>\n",
       "      <td>['Locus Award Nominee for ...</td>\n",
       "      <td>6376780</td>\n",
       "      <td>['3444695', '1921313', '74...</td>\n",
       "      <td>96.0</td>\n",
       "      <td>['District 12, Panem', 'Ca...</td>\n",
       "      <td>https://i.gr-assets.com/im...</td>\n",
       "      <td>2993816</td>\n",
       "      <td>30516</td>\n",
       "      <td>5.09</td>\n",
       "    </tr>\n",
       "    <tr>\n",
       "      <th>1</th>\n",
       "      <td>2.Harry_Potter_and_the_Ord...</td>\n",
       "      <td>Harry Potter and the Order...</td>\n",
       "      <td>Harry Potter #5</td>\n",
       "      <td>J.K. Rowling, Mary GrandPr...</td>\n",
       "      <td>4.50</td>\n",
       "      <td>There is a door at the end...</td>\n",
       "      <td>English</td>\n",
       "      <td>9780439358071</td>\n",
       "      <td>['Fantasy', 'Young Adult',...</td>\n",
       "      <td>['Sirius Black', 'Draco Ma...</td>\n",
       "      <td>Paperback</td>\n",
       "      <td>US Edition</td>\n",
       "      <td>870</td>\n",
       "      <td>Scholastic Inc.</td>\n",
       "      <td>09/28/04</td>\n",
       "      <td>06/21/03</td>\n",
       "      <td>['Bram Stoker Award for Wo...</td>\n",
       "      <td>2507623</td>\n",
       "      <td>['1593642', '637516', '222...</td>\n",
       "      <td>98.0</td>\n",
       "      <td>['Hogwarts School of Witch...</td>\n",
       "      <td>https://i.gr-assets.com/im...</td>\n",
       "      <td>2632233</td>\n",
       "      <td>26923</td>\n",
       "      <td>7.38</td>\n",
       "    </tr>\n",
       "  </tbody>\n",
       "</table>\n",
       "</div>"
      ],
      "text/plain": [
       "                          bookId                          title  \\\n",
       "0       2767052-the-hunger-games               The Hunger Games   \n",
       "1  2.Harry_Potter_and_the_Ord...  Harry Potter and the Order...   \n",
       "\n",
       "                series                         author  rating  \\\n",
       "0  The Hunger Games #1                Suzanne Collins    4.33   \n",
       "1      Harry Potter #5  J.K. Rowling, Mary GrandPr...    4.50   \n",
       "\n",
       "                     description language           isbn  \\\n",
       "0  WINNING MEANS FAME AND FOR...  English  9780439023481   \n",
       "1  There is a door at the end...  English  9780439358071   \n",
       "\n",
       "                          genres                     characters bookFormat  \\\n",
       "0  ['Young Adult', 'Fiction',...  ['Katniss Everdeen', 'Peet...  Hardcover   \n",
       "1  ['Fantasy', 'Young Adult',...  ['Sirius Black', 'Draco Ma...  Paperback   \n",
       "\n",
       "         edition pages         publisher publishDate firstPublishDate  \\\n",
       "0  First Edition   374  Scholastic Press    09/14/08              NaN   \n",
       "1     US Edition   870   Scholastic Inc.    09/28/04         06/21/03   \n",
       "\n",
       "                          awards  numRatings                 ratingsByStars  \\\n",
       "0  ['Locus Award Nominee for ...     6376780  ['3444695', '1921313', '74...   \n",
       "1  ['Bram Stoker Award for Wo...     2507623  ['1593642', '637516', '222...   \n",
       "\n",
       "   likedPercent                        setting                       coverImg  \\\n",
       "0          96.0  ['District 12, Panem', 'Ca...  https://i.gr-assets.com/im...   \n",
       "1          98.0  ['Hogwarts School of Witch...  https://i.gr-assets.com/im...   \n",
       "\n",
       "   bbeScore  bbeVotes price  \n",
       "0   2993816     30516  5.09  \n",
       "1   2632233     26923  7.38  "
      ]
     },
     "execution_count": 2,
     "metadata": {},
     "output_type": "execute_result"
    }
   ],
   "source": [
    "df = pd.read_csv('docs/books_1.Best_Books_Ever.csv')\n",
    "df.head(2)"
   ]
  },
  {
   "cell_type": "code",
   "execution_count": 3,
   "id": "537fa65e",
   "metadata": {},
   "outputs": [
    {
     "name": "stdout",
     "output_type": "stream",
     "text": [
      "<class 'pandas.core.frame.DataFrame'>\n",
      "RangeIndex: 52478 entries, 0 to 52477\n",
      "Data columns (total 25 columns):\n",
      " #   Column            Non-Null Count  Dtype  \n",
      "---  ------            --------------  -----  \n",
      " 0   bookId            52478 non-null  object \n",
      " 1   title             52478 non-null  object \n",
      " 2   series            23470 non-null  object \n",
      " 3   author            52478 non-null  object \n",
      " 4   rating            52478 non-null  float64\n",
      " 5   description       51140 non-null  object \n",
      " 6   language          48672 non-null  object \n",
      " 7   isbn              52478 non-null  object \n",
      " 8   genres            52478 non-null  object \n",
      " 9   characters        52478 non-null  object \n",
      " 10  bookFormat        51005 non-null  object \n",
      " 11  edition           4955 non-null   object \n",
      " 12  pages             50131 non-null  object \n",
      " 13  publisher         48782 non-null  object \n",
      " 14  publishDate       51598 non-null  object \n",
      " 15  firstPublishDate  31152 non-null  object \n",
      " 16  awards            52478 non-null  object \n",
      " 17  numRatings        52478 non-null  int64  \n",
      " 18  ratingsByStars    52478 non-null  object \n",
      " 19  likedPercent      51856 non-null  float64\n",
      " 20  setting           52478 non-null  object \n",
      " 21  coverImg          51873 non-null  object \n",
      " 22  bbeScore          52478 non-null  int64  \n",
      " 23  bbeVotes          52478 non-null  int64  \n",
      " 24  price             38113 non-null  object \n",
      "dtypes: float64(2), int64(3), object(20)\n",
      "memory usage: 10.0+ MB\n"
     ]
    }
   ],
   "source": [
    "df.info()"
   ]
  },
  {
   "cell_type": "markdown",
   "id": "83d2ed0c",
   "metadata": {},
   "source": [
    "## Dataset cleaning "
   ]
  },
  {
   "cell_type": "code",
   "execution_count": 4,
   "id": "aab80ba8",
   "metadata": {},
   "outputs": [
    {
     "name": "stdout",
     "output_type": "stream",
     "text": [
      "Number of rows before:  52478\n",
      "Number of rows after:  52428\n"
     ]
    }
   ],
   "source": [
    "# Remove duplicates\n",
    "print('Number of rows before: ', df['bookId'].size)\n",
    "df0 = df.drop_duplicates()\n",
    "print('Number of rows after: ', df0['bookId'].size)\n"
   ]
  },
  {
   "cell_type": "markdown",
   "id": "9cd37515",
   "metadata": {},
   "source": [
    "### Verify `bookId` uniquness and clean `price`"
   ]
  },
  {
   "cell_type": "code",
   "execution_count": 5,
   "id": "8f600ef2",
   "metadata": {},
   "outputs": [
    {
     "data": {
      "text/plain": [
       "0        5.09\n",
       "1        7.38\n",
       "2         NaN\n",
       "3         NaN\n",
       "4        2.10\n",
       "         ... \n",
       "52473     NaN\n",
       "52474     NaN\n",
       "52475    7.37\n",
       "52476    2.86\n",
       "52477    5.20\n",
       "Name: price, Length: 52428, dtype: float64"
      ]
     },
     "execution_count": 5,
     "metadata": {},
     "output_type": "execute_result"
    }
   ],
   "source": [
    "# Update price format. From string like '1.189.88' to float 1189.88\n",
    "df01 = df0.copy()\n",
    "pat = r'\\.(\\d{3})'\n",
    "repl = lambda m: m.group().replace(\".\", \"\")\n",
    "df01['price'] = df01['price'].str.replace(pat, repl, regex=True)\n",
    "df01['price'] = df01['price'].astype('float')\n",
    "#df01[df01['price']=='1.56.91']\n",
    "df01['price']"
   ]
  },
  {
   "cell_type": "code",
   "execution_count": 6,
   "id": "f71e0f55",
   "metadata": {},
   "outputs": [
    {
     "data": {
      "text/plain": [
       "bookId\n",
       "24903989-widz-ci                            2\n",
       "635270.The_Planet_Pirates                   2\n",
       "975953.Time_of_the_Dragons                  2\n",
       "60614.Diamond_Dogs                          2\n",
       "1.Harry_Potter_and_the_Half_Blood_Prince    1\n",
       "                                           ..\n",
       "19271017-my-story                           1\n",
       "1927111.Love_Com_Vol_5                      1\n",
       "1927112.Love_Com_Vol_6                      1\n",
       "192722.Candle_in_the_Darkness               1\n",
       "999985.Horrid_Henry_s_Underpants            1\n",
       "Name: bookId, Length: 52424, dtype: int64"
      ]
     },
     "execution_count": 6,
     "metadata": {},
     "output_type": "execute_result"
    }
   ],
   "source": [
    "# check if bookId is unique.\n",
    "df01.groupby('bookId')['bookId'].count().sort_values(ascending=False)"
   ]
  },
  {
   "cell_type": "code",
   "execution_count": 7,
   "id": "b3f28867",
   "metadata": {
    "scrolled": true
   },
   "outputs": [
    {
     "data": {
      "text/html": [
       "<div>\n",
       "<style scoped>\n",
       "    .dataframe tbody tr th:only-of-type {\n",
       "        vertical-align: middle;\n",
       "    }\n",
       "\n",
       "    .dataframe tbody tr th {\n",
       "        vertical-align: top;\n",
       "    }\n",
       "\n",
       "    .dataframe thead th {\n",
       "        text-align: right;\n",
       "    }\n",
       "</style>\n",
       "<table border=\"1\" class=\"dataframe\">\n",
       "  <thead>\n",
       "    <tr style=\"text-align: right;\">\n",
       "      <th></th>\n",
       "      <th>bookId</th>\n",
       "      <th>title</th>\n",
       "      <th>series</th>\n",
       "      <th>author</th>\n",
       "      <th>rating</th>\n",
       "      <th>description</th>\n",
       "      <th>language</th>\n",
       "      <th>isbn</th>\n",
       "      <th>genres</th>\n",
       "      <th>characters</th>\n",
       "      <th>bookFormat</th>\n",
       "      <th>edition</th>\n",
       "      <th>pages</th>\n",
       "      <th>publisher</th>\n",
       "      <th>publishDate</th>\n",
       "      <th>firstPublishDate</th>\n",
       "      <th>awards</th>\n",
       "      <th>numRatings</th>\n",
       "      <th>ratingsByStars</th>\n",
       "      <th>likedPercent</th>\n",
       "      <th>setting</th>\n",
       "      <th>coverImg</th>\n",
       "      <th>bbeScore</th>\n",
       "      <th>bbeVotes</th>\n",
       "      <th>price</th>\n",
       "    </tr>\n",
       "  </thead>\n",
       "  <tbody>\n",
       "    <tr>\n",
       "      <th>37422</th>\n",
       "      <td>24903989-widz-ci</td>\n",
       "      <td>Widzę cię</td>\n",
       "      <td>Trilogia dei sensi #1</td>\n",
       "      <td>Irene Cao</td>\n",
       "      <td>3.22</td>\n",
       "      <td>Gdyby dało się uchwycić pr...</td>\n",
       "      <td>Polish</td>\n",
       "      <td>9788379991587</td>\n",
       "      <td>['Romance', 'Erotica', 'Co...</td>\n",
       "      <td>['Elena Kyler', 'Leonardo']</td>\n",
       "      <td>Paperback</td>\n",
       "      <td>NaN</td>\n",
       "      <td>304</td>\n",
       "      <td>Sonia Draga</td>\n",
       "      <td>January 14th 2015</td>\n",
       "      <td>11/06/13</td>\n",
       "      <td>[]</td>\n",
       "      <td>1292</td>\n",
       "      <td>['216', '321', '405', '235...</td>\n",
       "      <td>73.0</td>\n",
       "      <td>['Venice (Italy)']</td>\n",
       "      <td>https://i.gr-assets.com/im...</td>\n",
       "      <td>87</td>\n",
       "      <td>1</td>\n",
       "      <td>7.28</td>\n",
       "    </tr>\n",
       "    <tr>\n",
       "      <th>37476</th>\n",
       "      <td>24903989-widz-ci</td>\n",
       "      <td>Widzę cię</td>\n",
       "      <td>Trilogia dei sensi #1</td>\n",
       "      <td>Irene Cao</td>\n",
       "      <td>3.22</td>\n",
       "      <td>Gdyby dało się uchwycić pr...</td>\n",
       "      <td>Polish</td>\n",
       "      <td>9788379991587</td>\n",
       "      <td>['Romance', 'Erotica', 'Co...</td>\n",
       "      <td>['Elena Kyler', 'Leonardo']</td>\n",
       "      <td>Paperback</td>\n",
       "      <td>NaN</td>\n",
       "      <td>304</td>\n",
       "      <td>Sonia Draga</td>\n",
       "      <td>January 14th 2015</td>\n",
       "      <td>11/06/13</td>\n",
       "      <td>[]</td>\n",
       "      <td>1292</td>\n",
       "      <td>['216', '321', '405', '235...</td>\n",
       "      <td>73.0</td>\n",
       "      <td>['Venice (Italy)']</td>\n",
       "      <td>https://i.gr-assets.com/im...</td>\n",
       "      <td>87</td>\n",
       "      <td>1</td>\n",
       "      <td>7.32</td>\n",
       "    </tr>\n",
       "    <tr>\n",
       "      <th>37401</th>\n",
       "      <td>60614.Diamond_Dogs</td>\n",
       "      <td>Diamond Dogs</td>\n",
       "      <td>NaN</td>\n",
       "      <td>Alan Watt (Goodreads Author)</td>\n",
       "      <td>3.46</td>\n",
       "      <td>Neil Garvin is a seventeen...</td>\n",
       "      <td>English</td>\n",
       "      <td>9780446677844</td>\n",
       "      <td>['Fiction', 'Mystery', 'Co...</td>\n",
       "      <td>[]</td>\n",
       "      <td>Paperback</td>\n",
       "      <td>NaN</td>\n",
       "      <td>256</td>\n",
       "      <td>Grand Central Publishing</td>\n",
       "      <td>September 1st 2001</td>\n",
       "      <td>09/01/00</td>\n",
       "      <td>['ALA Alex Award (2001)']</td>\n",
       "      <td>320</td>\n",
       "      <td>['54', '100', '115', '42',...</td>\n",
       "      <td>84.0</td>\n",
       "      <td>[]</td>\n",
       "      <td>https://i.gr-assets.com/im...</td>\n",
       "      <td>87</td>\n",
       "      <td>1</td>\n",
       "      <td>6.27</td>\n",
       "    </tr>\n",
       "    <tr>\n",
       "      <th>37455</th>\n",
       "      <td>60614.Diamond_Dogs</td>\n",
       "      <td>Diamond Dogs</td>\n",
       "      <td>NaN</td>\n",
       "      <td>Alan Watt (Goodreads Author)</td>\n",
       "      <td>3.46</td>\n",
       "      <td>Neil Garvin is a seventeen...</td>\n",
       "      <td>English</td>\n",
       "      <td>9780446677844</td>\n",
       "      <td>['Fiction', 'Mystery', 'Co...</td>\n",
       "      <td>[]</td>\n",
       "      <td>Paperback</td>\n",
       "      <td>NaN</td>\n",
       "      <td>256</td>\n",
       "      <td>Grand Central Publishing</td>\n",
       "      <td>September 1st 2001</td>\n",
       "      <td>09/01/00</td>\n",
       "      <td>['ALA Alex Award (2001)']</td>\n",
       "      <td>320</td>\n",
       "      <td>['54', '100', '115', '42',...</td>\n",
       "      <td>84.0</td>\n",
       "      <td>[]</td>\n",
       "      <td>https://i.gr-assets.com/im...</td>\n",
       "      <td>87</td>\n",
       "      <td>1</td>\n",
       "      <td>6.06</td>\n",
       "    </tr>\n",
       "    <tr>\n",
       "      <th>37399</th>\n",
       "      <td>635270.The_Planet_Pirates</td>\n",
       "      <td>The Planet Pirates</td>\n",
       "      <td>Planet Pirates #1-3</td>\n",
       "      <td>Anne McCaffrey, Elizabeth ...</td>\n",
       "      <td>4.09</td>\n",
       "      <td>THE PLANET PIRATES ENSLAVE...</td>\n",
       "      <td>English</td>\n",
       "      <td>9780671319625</td>\n",
       "      <td>['Science Fiction', 'Fanta...</td>\n",
       "      <td>['Sassinak', 'Lunzie']</td>\n",
       "      <td>Hardcover</td>\n",
       "      <td>NaN</td>\n",
       "      <td>890</td>\n",
       "      <td>Baen Books</td>\n",
       "      <td>December 1st 2000</td>\n",
       "      <td>11/06/93</td>\n",
       "      <td>[]</td>\n",
       "      <td>1287</td>\n",
       "      <td>['515', '444', '269', '49'...</td>\n",
       "      <td>95.0</td>\n",
       "      <td>[]</td>\n",
       "      <td>https://i.gr-assets.com/im...</td>\n",
       "      <td>87</td>\n",
       "      <td>2</td>\n",
       "      <td>7.72</td>\n",
       "    </tr>\n",
       "    <tr>\n",
       "      <th>37453</th>\n",
       "      <td>635270.The_Planet_Pirates</td>\n",
       "      <td>The Planet Pirates</td>\n",
       "      <td>Planet Pirates #1-3</td>\n",
       "      <td>Anne McCaffrey, Elizabeth ...</td>\n",
       "      <td>4.09</td>\n",
       "      <td>THE PLANET PIRATES ENSLAVE...</td>\n",
       "      <td>English</td>\n",
       "      <td>9780671319625</td>\n",
       "      <td>['Science Fiction', 'Fanta...</td>\n",
       "      <td>['Sassinak', 'Lunzie']</td>\n",
       "      <td>Hardcover</td>\n",
       "      <td>NaN</td>\n",
       "      <td>890</td>\n",
       "      <td>Baen Books</td>\n",
       "      <td>December 1st 2000</td>\n",
       "      <td>11/06/93</td>\n",
       "      <td>[]</td>\n",
       "      <td>1287</td>\n",
       "      <td>['515', '444', '269', '49'...</td>\n",
       "      <td>95.0</td>\n",
       "      <td>[]</td>\n",
       "      <td>https://i.gr-assets.com/im...</td>\n",
       "      <td>87</td>\n",
       "      <td>2</td>\n",
       "      <td>7.74</td>\n",
       "    </tr>\n",
       "    <tr>\n",
       "      <th>37423</th>\n",
       "      <td>975953.Time_of_the_Dragons</td>\n",
       "      <td>Time of the Dragons</td>\n",
       "      <td>Shike #1</td>\n",
       "      <td>Robert Shea</td>\n",
       "      <td>4.27</td>\n",
       "      <td>Shike is a novel about two...</td>\n",
       "      <td>English</td>\n",
       "      <td>9780515048742</td>\n",
       "      <td>['Historical Fiction', 'Fi...</td>\n",
       "      <td>[]</td>\n",
       "      <td>Paperback</td>\n",
       "      <td>NaN</td>\n",
       "      <td>453</td>\n",
       "      <td>Jove</td>\n",
       "      <td>June 1st 1981</td>\n",
       "      <td>NaN</td>\n",
       "      <td>[]</td>\n",
       "      <td>496</td>\n",
       "      <td>['237', '179', '62', '14',...</td>\n",
       "      <td>96.0</td>\n",
       "      <td>[]</td>\n",
       "      <td>https://i.gr-assets.com/im...</td>\n",
       "      <td>87</td>\n",
       "      <td>1</td>\n",
       "      <td>5.45</td>\n",
       "    </tr>\n",
       "    <tr>\n",
       "      <th>37477</th>\n",
       "      <td>975953.Time_of_the_Dragons</td>\n",
       "      <td>Time of the Dragons</td>\n",
       "      <td>Shike #1</td>\n",
       "      <td>Robert Shea</td>\n",
       "      <td>4.27</td>\n",
       "      <td>Shike is a novel about two...</td>\n",
       "      <td>English</td>\n",
       "      <td>9780515048742</td>\n",
       "      <td>['Historical Fiction', 'Fi...</td>\n",
       "      <td>[]</td>\n",
       "      <td>Paperback</td>\n",
       "      <td>NaN</td>\n",
       "      <td>453</td>\n",
       "      <td>Jove</td>\n",
       "      <td>June 1st 1981</td>\n",
       "      <td>NaN</td>\n",
       "      <td>[]</td>\n",
       "      <td>496</td>\n",
       "      <td>['237', '179', '62', '14',...</td>\n",
       "      <td>96.0</td>\n",
       "      <td>[]</td>\n",
       "      <td>https://i.gr-assets.com/im...</td>\n",
       "      <td>87</td>\n",
       "      <td>1</td>\n",
       "      <td>5.46</td>\n",
       "    </tr>\n",
       "  </tbody>\n",
       "</table>\n",
       "</div>"
      ],
      "text/plain": [
       "                           bookId                title                 series  \\\n",
       "37422            24903989-widz-ci            Widzę cię  Trilogia dei sensi #1   \n",
       "37476            24903989-widz-ci            Widzę cię  Trilogia dei sensi #1   \n",
       "37401          60614.Diamond_Dogs         Diamond Dogs                    NaN   \n",
       "37455          60614.Diamond_Dogs         Diamond Dogs                    NaN   \n",
       "37399   635270.The_Planet_Pirates   The Planet Pirates    Planet Pirates #1-3   \n",
       "37453   635270.The_Planet_Pirates   The Planet Pirates    Planet Pirates #1-3   \n",
       "37423  975953.Time_of_the_Dragons  Time of the Dragons               Shike #1   \n",
       "37477  975953.Time_of_the_Dragons  Time of the Dragons               Shike #1   \n",
       "\n",
       "                              author  rating                    description  \\\n",
       "37422                      Irene Cao    3.22  Gdyby dało się uchwycić pr...   \n",
       "37476                      Irene Cao    3.22  Gdyby dało się uchwycić pr...   \n",
       "37401   Alan Watt (Goodreads Author)    3.46  Neil Garvin is a seventeen...   \n",
       "37455   Alan Watt (Goodreads Author)    3.46  Neil Garvin is a seventeen...   \n",
       "37399  Anne McCaffrey, Elizabeth ...    4.09  THE PLANET PIRATES ENSLAVE...   \n",
       "37453  Anne McCaffrey, Elizabeth ...    4.09  THE PLANET PIRATES ENSLAVE...   \n",
       "37423                    Robert Shea    4.27  Shike is a novel about two...   \n",
       "37477                    Robert Shea    4.27  Shike is a novel about two...   \n",
       "\n",
       "      language           isbn                         genres  \\\n",
       "37422   Polish  9788379991587  ['Romance', 'Erotica', 'Co...   \n",
       "37476   Polish  9788379991587  ['Romance', 'Erotica', 'Co...   \n",
       "37401  English  9780446677844  ['Fiction', 'Mystery', 'Co...   \n",
       "37455  English  9780446677844  ['Fiction', 'Mystery', 'Co...   \n",
       "37399  English  9780671319625  ['Science Fiction', 'Fanta...   \n",
       "37453  English  9780671319625  ['Science Fiction', 'Fanta...   \n",
       "37423  English  9780515048742  ['Historical Fiction', 'Fi...   \n",
       "37477  English  9780515048742  ['Historical Fiction', 'Fi...   \n",
       "\n",
       "                        characters bookFormat edition pages  \\\n",
       "37422  ['Elena Kyler', 'Leonardo']  Paperback     NaN   304   \n",
       "37476  ['Elena Kyler', 'Leonardo']  Paperback     NaN   304   \n",
       "37401                           []  Paperback     NaN   256   \n",
       "37455                           []  Paperback     NaN   256   \n",
       "37399       ['Sassinak', 'Lunzie']  Hardcover     NaN   890   \n",
       "37453       ['Sassinak', 'Lunzie']  Hardcover     NaN   890   \n",
       "37423                           []  Paperback     NaN   453   \n",
       "37477                           []  Paperback     NaN   453   \n",
       "\n",
       "                      publisher         publishDate firstPublishDate  \\\n",
       "37422               Sonia Draga   January 14th 2015         11/06/13   \n",
       "37476               Sonia Draga   January 14th 2015         11/06/13   \n",
       "37401  Grand Central Publishing  September 1st 2001         09/01/00   \n",
       "37455  Grand Central Publishing  September 1st 2001         09/01/00   \n",
       "37399                Baen Books   December 1st 2000         11/06/93   \n",
       "37453                Baen Books   December 1st 2000         11/06/93   \n",
       "37423                      Jove       June 1st 1981              NaN   \n",
       "37477                      Jove       June 1st 1981              NaN   \n",
       "\n",
       "                          awards  numRatings                 ratingsByStars  \\\n",
       "37422                         []        1292  ['216', '321', '405', '235...   \n",
       "37476                         []        1292  ['216', '321', '405', '235...   \n",
       "37401  ['ALA Alex Award (2001)']         320  ['54', '100', '115', '42',...   \n",
       "37455  ['ALA Alex Award (2001)']         320  ['54', '100', '115', '42',...   \n",
       "37399                         []        1287  ['515', '444', '269', '49'...   \n",
       "37453                         []        1287  ['515', '444', '269', '49'...   \n",
       "37423                         []         496  ['237', '179', '62', '14',...   \n",
       "37477                         []         496  ['237', '179', '62', '14',...   \n",
       "\n",
       "       likedPercent             setting                       coverImg  \\\n",
       "37422          73.0  ['Venice (Italy)']  https://i.gr-assets.com/im...   \n",
       "37476          73.0  ['Venice (Italy)']  https://i.gr-assets.com/im...   \n",
       "37401          84.0                  []  https://i.gr-assets.com/im...   \n",
       "37455          84.0                  []  https://i.gr-assets.com/im...   \n",
       "37399          95.0                  []  https://i.gr-assets.com/im...   \n",
       "37453          95.0                  []  https://i.gr-assets.com/im...   \n",
       "37423          96.0                  []  https://i.gr-assets.com/im...   \n",
       "37477          96.0                  []  https://i.gr-assets.com/im...   \n",
       "\n",
       "       bbeScore  bbeVotes  price  \n",
       "37422        87         1   7.28  \n",
       "37476        87         1   7.32  \n",
       "37401        87         1   6.27  \n",
       "37455        87         1   6.06  \n",
       "37399        87         2   7.72  \n",
       "37453        87         2   7.74  \n",
       "37423        87         1   5.45  \n",
       "37477        87         1   5.46  "
      ]
     },
     "execution_count": 7,
     "metadata": {},
     "output_type": "execute_result"
    }
   ],
   "source": [
    "# Above related issue is with 'price' column. 2 slightly different prices for the same bookId\n",
    "df01[df01['bookId'].isin(['60614.Diamond_Dogs',\n",
    "                        '24903989-widz-ci',\n",
    "                        '635270.The_Planet_Pirates',\n",
    "                        '975953.Time_of_the_Dragons'])].sort_values('bookId')"
   ]
  },
  {
   "cell_type": "code",
   "execution_count": 8,
   "id": "bc90862d",
   "metadata": {},
   "outputs": [],
   "source": [
    "# Change these values to mean\n",
    "df01['price'] = df01.groupby('isbn')['price'].transform('mean').round(2)"
   ]
  },
  {
   "cell_type": "code",
   "execution_count": 9,
   "id": "aadb8a8c",
   "metadata": {},
   "outputs": [
    {
     "data": {
      "text/html": [
       "<div>\n",
       "<style scoped>\n",
       "    .dataframe tbody tr th:only-of-type {\n",
       "        vertical-align: middle;\n",
       "    }\n",
       "\n",
       "    .dataframe tbody tr th {\n",
       "        vertical-align: top;\n",
       "    }\n",
       "\n",
       "    .dataframe thead th {\n",
       "        text-align: right;\n",
       "    }\n",
       "</style>\n",
       "<table border=\"1\" class=\"dataframe\">\n",
       "  <thead>\n",
       "    <tr style=\"text-align: right;\">\n",
       "      <th></th>\n",
       "      <th>bookId</th>\n",
       "      <th>title</th>\n",
       "      <th>series</th>\n",
       "      <th>author</th>\n",
       "      <th>rating</th>\n",
       "      <th>description</th>\n",
       "      <th>language</th>\n",
       "      <th>isbn</th>\n",
       "      <th>genres</th>\n",
       "      <th>characters</th>\n",
       "      <th>bookFormat</th>\n",
       "      <th>edition</th>\n",
       "      <th>pages</th>\n",
       "      <th>publisher</th>\n",
       "      <th>publishDate</th>\n",
       "      <th>firstPublishDate</th>\n",
       "      <th>awards</th>\n",
       "      <th>numRatings</th>\n",
       "      <th>ratingsByStars</th>\n",
       "      <th>likedPercent</th>\n",
       "      <th>setting</th>\n",
       "      <th>coverImg</th>\n",
       "      <th>bbeScore</th>\n",
       "      <th>bbeVotes</th>\n",
       "      <th>price</th>\n",
       "    </tr>\n",
       "  </thead>\n",
       "  <tbody>\n",
       "    <tr>\n",
       "      <th>37422</th>\n",
       "      <td>24903989-widz-ci</td>\n",
       "      <td>Widzę cię</td>\n",
       "      <td>Trilogia dei sensi #1</td>\n",
       "      <td>Irene Cao</td>\n",
       "      <td>3.22</td>\n",
       "      <td>Gdyby dało się uchwycić pr...</td>\n",
       "      <td>Polish</td>\n",
       "      <td>9788379991587</td>\n",
       "      <td>['Romance', 'Erotica', 'Co...</td>\n",
       "      <td>['Elena Kyler', 'Leonardo']</td>\n",
       "      <td>Paperback</td>\n",
       "      <td>NaN</td>\n",
       "      <td>304</td>\n",
       "      <td>Sonia Draga</td>\n",
       "      <td>January 14th 2015</td>\n",
       "      <td>11/06/13</td>\n",
       "      <td>[]</td>\n",
       "      <td>1292</td>\n",
       "      <td>['216', '321', '405', '235...</td>\n",
       "      <td>73.0</td>\n",
       "      <td>['Venice (Italy)']</td>\n",
       "      <td>https://i.gr-assets.com/im...</td>\n",
       "      <td>87</td>\n",
       "      <td>1</td>\n",
       "      <td>7.30</td>\n",
       "    </tr>\n",
       "    <tr>\n",
       "      <th>37476</th>\n",
       "      <td>24903989-widz-ci</td>\n",
       "      <td>Widzę cię</td>\n",
       "      <td>Trilogia dei sensi #1</td>\n",
       "      <td>Irene Cao</td>\n",
       "      <td>3.22</td>\n",
       "      <td>Gdyby dało się uchwycić pr...</td>\n",
       "      <td>Polish</td>\n",
       "      <td>9788379991587</td>\n",
       "      <td>['Romance', 'Erotica', 'Co...</td>\n",
       "      <td>['Elena Kyler', 'Leonardo']</td>\n",
       "      <td>Paperback</td>\n",
       "      <td>NaN</td>\n",
       "      <td>304</td>\n",
       "      <td>Sonia Draga</td>\n",
       "      <td>January 14th 2015</td>\n",
       "      <td>11/06/13</td>\n",
       "      <td>[]</td>\n",
       "      <td>1292</td>\n",
       "      <td>['216', '321', '405', '235...</td>\n",
       "      <td>73.0</td>\n",
       "      <td>['Venice (Italy)']</td>\n",
       "      <td>https://i.gr-assets.com/im...</td>\n",
       "      <td>87</td>\n",
       "      <td>1</td>\n",
       "      <td>7.30</td>\n",
       "    </tr>\n",
       "    <tr>\n",
       "      <th>37401</th>\n",
       "      <td>60614.Diamond_Dogs</td>\n",
       "      <td>Diamond Dogs</td>\n",
       "      <td>NaN</td>\n",
       "      <td>Alan Watt (Goodreads Author)</td>\n",
       "      <td>3.46</td>\n",
       "      <td>Neil Garvin is a seventeen...</td>\n",
       "      <td>English</td>\n",
       "      <td>9780446677844</td>\n",
       "      <td>['Fiction', 'Mystery', 'Co...</td>\n",
       "      <td>[]</td>\n",
       "      <td>Paperback</td>\n",
       "      <td>NaN</td>\n",
       "      <td>256</td>\n",
       "      <td>Grand Central Publishing</td>\n",
       "      <td>September 1st 2001</td>\n",
       "      <td>09/01/00</td>\n",
       "      <td>['ALA Alex Award (2001)']</td>\n",
       "      <td>320</td>\n",
       "      <td>['54', '100', '115', '42',...</td>\n",
       "      <td>84.0</td>\n",
       "      <td>[]</td>\n",
       "      <td>https://i.gr-assets.com/im...</td>\n",
       "      <td>87</td>\n",
       "      <td>1</td>\n",
       "      <td>6.16</td>\n",
       "    </tr>\n",
       "    <tr>\n",
       "      <th>37455</th>\n",
       "      <td>60614.Diamond_Dogs</td>\n",
       "      <td>Diamond Dogs</td>\n",
       "      <td>NaN</td>\n",
       "      <td>Alan Watt (Goodreads Author)</td>\n",
       "      <td>3.46</td>\n",
       "      <td>Neil Garvin is a seventeen...</td>\n",
       "      <td>English</td>\n",
       "      <td>9780446677844</td>\n",
       "      <td>['Fiction', 'Mystery', 'Co...</td>\n",
       "      <td>[]</td>\n",
       "      <td>Paperback</td>\n",
       "      <td>NaN</td>\n",
       "      <td>256</td>\n",
       "      <td>Grand Central Publishing</td>\n",
       "      <td>September 1st 2001</td>\n",
       "      <td>09/01/00</td>\n",
       "      <td>['ALA Alex Award (2001)']</td>\n",
       "      <td>320</td>\n",
       "      <td>['54', '100', '115', '42',...</td>\n",
       "      <td>84.0</td>\n",
       "      <td>[]</td>\n",
       "      <td>https://i.gr-assets.com/im...</td>\n",
       "      <td>87</td>\n",
       "      <td>1</td>\n",
       "      <td>6.16</td>\n",
       "    </tr>\n",
       "    <tr>\n",
       "      <th>37399</th>\n",
       "      <td>635270.The_Planet_Pirates</td>\n",
       "      <td>The Planet Pirates</td>\n",
       "      <td>Planet Pirates #1-3</td>\n",
       "      <td>Anne McCaffrey, Elizabeth ...</td>\n",
       "      <td>4.09</td>\n",
       "      <td>THE PLANET PIRATES ENSLAVE...</td>\n",
       "      <td>English</td>\n",
       "      <td>9780671319625</td>\n",
       "      <td>['Science Fiction', 'Fanta...</td>\n",
       "      <td>['Sassinak', 'Lunzie']</td>\n",
       "      <td>Hardcover</td>\n",
       "      <td>NaN</td>\n",
       "      <td>890</td>\n",
       "      <td>Baen Books</td>\n",
       "      <td>December 1st 2000</td>\n",
       "      <td>11/06/93</td>\n",
       "      <td>[]</td>\n",
       "      <td>1287</td>\n",
       "      <td>['515', '444', '269', '49'...</td>\n",
       "      <td>95.0</td>\n",
       "      <td>[]</td>\n",
       "      <td>https://i.gr-assets.com/im...</td>\n",
       "      <td>87</td>\n",
       "      <td>2</td>\n",
       "      <td>7.73</td>\n",
       "    </tr>\n",
       "    <tr>\n",
       "      <th>37453</th>\n",
       "      <td>635270.The_Planet_Pirates</td>\n",
       "      <td>The Planet Pirates</td>\n",
       "      <td>Planet Pirates #1-3</td>\n",
       "      <td>Anne McCaffrey, Elizabeth ...</td>\n",
       "      <td>4.09</td>\n",
       "      <td>THE PLANET PIRATES ENSLAVE...</td>\n",
       "      <td>English</td>\n",
       "      <td>9780671319625</td>\n",
       "      <td>['Science Fiction', 'Fanta...</td>\n",
       "      <td>['Sassinak', 'Lunzie']</td>\n",
       "      <td>Hardcover</td>\n",
       "      <td>NaN</td>\n",
       "      <td>890</td>\n",
       "      <td>Baen Books</td>\n",
       "      <td>December 1st 2000</td>\n",
       "      <td>11/06/93</td>\n",
       "      <td>[]</td>\n",
       "      <td>1287</td>\n",
       "      <td>['515', '444', '269', '49'...</td>\n",
       "      <td>95.0</td>\n",
       "      <td>[]</td>\n",
       "      <td>https://i.gr-assets.com/im...</td>\n",
       "      <td>87</td>\n",
       "      <td>2</td>\n",
       "      <td>7.73</td>\n",
       "    </tr>\n",
       "    <tr>\n",
       "      <th>37423</th>\n",
       "      <td>975953.Time_of_the_Dragons</td>\n",
       "      <td>Time of the Dragons</td>\n",
       "      <td>Shike #1</td>\n",
       "      <td>Robert Shea</td>\n",
       "      <td>4.27</td>\n",
       "      <td>Shike is a novel about two...</td>\n",
       "      <td>English</td>\n",
       "      <td>9780515048742</td>\n",
       "      <td>['Historical Fiction', 'Fi...</td>\n",
       "      <td>[]</td>\n",
       "      <td>Paperback</td>\n",
       "      <td>NaN</td>\n",
       "      <td>453</td>\n",
       "      <td>Jove</td>\n",
       "      <td>June 1st 1981</td>\n",
       "      <td>NaN</td>\n",
       "      <td>[]</td>\n",
       "      <td>496</td>\n",
       "      <td>['237', '179', '62', '14',...</td>\n",
       "      <td>96.0</td>\n",
       "      <td>[]</td>\n",
       "      <td>https://i.gr-assets.com/im...</td>\n",
       "      <td>87</td>\n",
       "      <td>1</td>\n",
       "      <td>5.46</td>\n",
       "    </tr>\n",
       "    <tr>\n",
       "      <th>37477</th>\n",
       "      <td>975953.Time_of_the_Dragons</td>\n",
       "      <td>Time of the Dragons</td>\n",
       "      <td>Shike #1</td>\n",
       "      <td>Robert Shea</td>\n",
       "      <td>4.27</td>\n",
       "      <td>Shike is a novel about two...</td>\n",
       "      <td>English</td>\n",
       "      <td>9780515048742</td>\n",
       "      <td>['Historical Fiction', 'Fi...</td>\n",
       "      <td>[]</td>\n",
       "      <td>Paperback</td>\n",
       "      <td>NaN</td>\n",
       "      <td>453</td>\n",
       "      <td>Jove</td>\n",
       "      <td>June 1st 1981</td>\n",
       "      <td>NaN</td>\n",
       "      <td>[]</td>\n",
       "      <td>496</td>\n",
       "      <td>['237', '179', '62', '14',...</td>\n",
       "      <td>96.0</td>\n",
       "      <td>[]</td>\n",
       "      <td>https://i.gr-assets.com/im...</td>\n",
       "      <td>87</td>\n",
       "      <td>1</td>\n",
       "      <td>5.46</td>\n",
       "    </tr>\n",
       "  </tbody>\n",
       "</table>\n",
       "</div>"
      ],
      "text/plain": [
       "                           bookId                title                 series  \\\n",
       "37422            24903989-widz-ci            Widzę cię  Trilogia dei sensi #1   \n",
       "37476            24903989-widz-ci            Widzę cię  Trilogia dei sensi #1   \n",
       "37401          60614.Diamond_Dogs         Diamond Dogs                    NaN   \n",
       "37455          60614.Diamond_Dogs         Diamond Dogs                    NaN   \n",
       "37399   635270.The_Planet_Pirates   The Planet Pirates    Planet Pirates #1-3   \n",
       "37453   635270.The_Planet_Pirates   The Planet Pirates    Planet Pirates #1-3   \n",
       "37423  975953.Time_of_the_Dragons  Time of the Dragons               Shike #1   \n",
       "37477  975953.Time_of_the_Dragons  Time of the Dragons               Shike #1   \n",
       "\n",
       "                              author  rating                    description  \\\n",
       "37422                      Irene Cao    3.22  Gdyby dało się uchwycić pr...   \n",
       "37476                      Irene Cao    3.22  Gdyby dało się uchwycić pr...   \n",
       "37401   Alan Watt (Goodreads Author)    3.46  Neil Garvin is a seventeen...   \n",
       "37455   Alan Watt (Goodreads Author)    3.46  Neil Garvin is a seventeen...   \n",
       "37399  Anne McCaffrey, Elizabeth ...    4.09  THE PLANET PIRATES ENSLAVE...   \n",
       "37453  Anne McCaffrey, Elizabeth ...    4.09  THE PLANET PIRATES ENSLAVE...   \n",
       "37423                    Robert Shea    4.27  Shike is a novel about two...   \n",
       "37477                    Robert Shea    4.27  Shike is a novel about two...   \n",
       "\n",
       "      language           isbn                         genres  \\\n",
       "37422   Polish  9788379991587  ['Romance', 'Erotica', 'Co...   \n",
       "37476   Polish  9788379991587  ['Romance', 'Erotica', 'Co...   \n",
       "37401  English  9780446677844  ['Fiction', 'Mystery', 'Co...   \n",
       "37455  English  9780446677844  ['Fiction', 'Mystery', 'Co...   \n",
       "37399  English  9780671319625  ['Science Fiction', 'Fanta...   \n",
       "37453  English  9780671319625  ['Science Fiction', 'Fanta...   \n",
       "37423  English  9780515048742  ['Historical Fiction', 'Fi...   \n",
       "37477  English  9780515048742  ['Historical Fiction', 'Fi...   \n",
       "\n",
       "                        characters bookFormat edition pages  \\\n",
       "37422  ['Elena Kyler', 'Leonardo']  Paperback     NaN   304   \n",
       "37476  ['Elena Kyler', 'Leonardo']  Paperback     NaN   304   \n",
       "37401                           []  Paperback     NaN   256   \n",
       "37455                           []  Paperback     NaN   256   \n",
       "37399       ['Sassinak', 'Lunzie']  Hardcover     NaN   890   \n",
       "37453       ['Sassinak', 'Lunzie']  Hardcover     NaN   890   \n",
       "37423                           []  Paperback     NaN   453   \n",
       "37477                           []  Paperback     NaN   453   \n",
       "\n",
       "                      publisher         publishDate firstPublishDate  \\\n",
       "37422               Sonia Draga   January 14th 2015         11/06/13   \n",
       "37476               Sonia Draga   January 14th 2015         11/06/13   \n",
       "37401  Grand Central Publishing  September 1st 2001         09/01/00   \n",
       "37455  Grand Central Publishing  September 1st 2001         09/01/00   \n",
       "37399                Baen Books   December 1st 2000         11/06/93   \n",
       "37453                Baen Books   December 1st 2000         11/06/93   \n",
       "37423                      Jove       June 1st 1981              NaN   \n",
       "37477                      Jove       June 1st 1981              NaN   \n",
       "\n",
       "                          awards  numRatings                 ratingsByStars  \\\n",
       "37422                         []        1292  ['216', '321', '405', '235...   \n",
       "37476                         []        1292  ['216', '321', '405', '235...   \n",
       "37401  ['ALA Alex Award (2001)']         320  ['54', '100', '115', '42',...   \n",
       "37455  ['ALA Alex Award (2001)']         320  ['54', '100', '115', '42',...   \n",
       "37399                         []        1287  ['515', '444', '269', '49'...   \n",
       "37453                         []        1287  ['515', '444', '269', '49'...   \n",
       "37423                         []         496  ['237', '179', '62', '14',...   \n",
       "37477                         []         496  ['237', '179', '62', '14',...   \n",
       "\n",
       "       likedPercent             setting                       coverImg  \\\n",
       "37422          73.0  ['Venice (Italy)']  https://i.gr-assets.com/im...   \n",
       "37476          73.0  ['Venice (Italy)']  https://i.gr-assets.com/im...   \n",
       "37401          84.0                  []  https://i.gr-assets.com/im...   \n",
       "37455          84.0                  []  https://i.gr-assets.com/im...   \n",
       "37399          95.0                  []  https://i.gr-assets.com/im...   \n",
       "37453          95.0                  []  https://i.gr-assets.com/im...   \n",
       "37423          96.0                  []  https://i.gr-assets.com/im...   \n",
       "37477          96.0                  []  https://i.gr-assets.com/im...   \n",
       "\n",
       "       bbeScore  bbeVotes  price  \n",
       "37422        87         1   7.30  \n",
       "37476        87         1   7.30  \n",
       "37401        87         1   6.16  \n",
       "37455        87         1   6.16  \n",
       "37399        87         2   7.73  \n",
       "37453        87         2   7.73  \n",
       "37423        87         1   5.46  \n",
       "37477        87         1   5.46  "
      ]
     },
     "execution_count": 9,
     "metadata": {},
     "output_type": "execute_result"
    }
   ],
   "source": [
    "df01[df01['bookId'].isin(['60614.Diamond_Dogs',\n",
    "                        '24903989-widz-ci',\n",
    "                        '635270.The_Planet_Pirates',\n",
    "                        '975953.Time_of_the_Dragons'])].sort_values('bookId')"
   ]
  },
  {
   "cell_type": "code",
   "execution_count": 10,
   "id": "517b543e",
   "metadata": {},
   "outputs": [
    {
     "data": {
      "text/plain": [
       "bookId\n",
       "1.Harry_Potter_and_the_Half_Blood_Prince    1\n",
       "4068710-ufo-ifo                             1\n",
       "40670008-before-the-fall                    1\n",
       "40670312-the-one                            1\n",
       "4067103-ransom-my-heart                     1\n",
       "                                           ..\n",
       "19271017-my-story                           1\n",
       "1927111.Love_Com_Vol_5                      1\n",
       "1927112.Love_Com_Vol_6                      1\n",
       "192722.Candle_in_the_Darkness               1\n",
       "999985.Horrid_Henry_s_Underpants            1\n",
       "Name: bookId, Length: 52424, dtype: int64"
      ]
     },
     "execution_count": 10,
     "metadata": {},
     "output_type": "execute_result"
    }
   ],
   "source": [
    "# Different price values for the same publication were susbtituted by mean,\n",
    "# now it is deduplicated as there should be one price per publication. (-4 lines)\n",
    "\n",
    "fix_col = list(df0.columns)\n",
    "fix_col.remove('price')\n",
    "\n",
    "df01 = df01.drop_duplicates(fix_col)\n",
    "\n",
    "# problem solved\n",
    "df01.groupby('bookId')['bookId'].count().sort_values(ascending=False)"
   ]
  },
  {
   "cell_type": "code",
   "execution_count": 11,
   "id": "09f91aed",
   "metadata": {},
   "outputs": [
    {
     "data": {
      "text/plain": [
       "(52424, 25)"
      ]
     },
     "execution_count": 11,
     "metadata": {},
     "output_type": "execute_result"
    }
   ],
   "source": [
    "df01.shape"
   ]
  },
  {
   "cell_type": "markdown",
   "id": "107b4712",
   "metadata": {},
   "source": [
    "### Clean `isbn`"
   ]
  },
  {
   "cell_type": "code",
   "execution_count": 12,
   "id": "dff55703",
   "metadata": {},
   "outputs": [
    {
     "data": {
      "text/plain": [
       "isbn\n",
       "9999999999999    4350\n",
       "9781250166548       2\n",
       "9780765326355       2\n",
       "9780312429980       2\n",
       "0000195166000       1\n",
       "Name: isbn, dtype: int64"
      ]
     },
     "execution_count": 12,
     "metadata": {},
     "output_type": "execute_result"
    }
   ],
   "source": [
    "# Issue many rows with \"isbn\" = 9999999999999\n",
    "df01.groupby('isbn')['isbn'].count().sort_values(ascending=False).head(5)"
   ]
  },
  {
   "cell_type": "code",
   "execution_count": 13,
   "id": "ac771d70",
   "metadata": {},
   "outputs": [
    {
     "name": "stdout",
     "output_type": "stream",
     "text": [
      "Number of unique ISBN:  52421\n",
      "Number of unique \"bookId\":  52424\n"
     ]
    }
   ],
   "source": [
    "# book usually has a unique ISBN code. In order to use it as part of primary key for the book table\n",
    "# the rows containing '9999999999999' will be substituted with numeric part of 'bookId'\n",
    "df02 = df01.copy()\n",
    "df02['isbn_new'] = df01['bookId'].str.extract(r'^(\\d+)')\n",
    "df02['isbn'] = np.where(df02['isbn'] =='9999999999999', df02['isbn_new'], df02['isbn'])\n",
    "df03 = df02.drop(columns=['isbn_new'])\n",
    "\n",
    "print('Number of unique ISBN: ', df03['isbn'].nunique())\n",
    "print('Number of unique \"bookId\": ', df03['bookId'].nunique())"
   ]
  },
  {
   "cell_type": "markdown",
   "id": "e949285e",
   "metadata": {},
   "source": [
    "### The ISBN identifies not only the particular publication but its publisher. If there is a change of publisher, then the new publisher must assign one of their own ISBNs to the new publication."
   ]
  },
  {
   "cell_type": "code",
   "execution_count": 14,
   "id": "f0dfb1cb",
   "metadata": {},
   "outputs": [
    {
     "name": "stdout",
     "output_type": "stream",
     "text": [
      "isbn\n",
      "9780312429980    2\n",
      "0000195166000    1\n",
      "9781423143543    1\n",
      "9781423144335    1\n",
      "9781423145509    1\n",
      "Name: publisher, dtype: int64\n"
     ]
    },
    {
     "data": {
      "text/html": [
       "<div>\n",
       "<style scoped>\n",
       "    .dataframe tbody tr th:only-of-type {\n",
       "        vertical-align: middle;\n",
       "    }\n",
       "\n",
       "    .dataframe tbody tr th {\n",
       "        vertical-align: top;\n",
       "    }\n",
       "\n",
       "    .dataframe thead th {\n",
       "        text-align: right;\n",
       "    }\n",
       "</style>\n",
       "<table border=\"1\" class=\"dataframe\">\n",
       "  <thead>\n",
       "    <tr style=\"text-align: right;\">\n",
       "      <th></th>\n",
       "      <th>bookId</th>\n",
       "      <th>title</th>\n",
       "      <th>series</th>\n",
       "      <th>author</th>\n",
       "      <th>rating</th>\n",
       "      <th>description</th>\n",
       "      <th>language</th>\n",
       "      <th>isbn</th>\n",
       "      <th>genres</th>\n",
       "      <th>characters</th>\n",
       "      <th>bookFormat</th>\n",
       "      <th>edition</th>\n",
       "      <th>pages</th>\n",
       "      <th>publisher</th>\n",
       "      <th>publishDate</th>\n",
       "      <th>firstPublishDate</th>\n",
       "      <th>awards</th>\n",
       "      <th>numRatings</th>\n",
       "      <th>ratingsByStars</th>\n",
       "      <th>likedPercent</th>\n",
       "      <th>setting</th>\n",
       "      <th>coverImg</th>\n",
       "      <th>bbeScore</th>\n",
       "      <th>bbeVotes</th>\n",
       "      <th>price</th>\n",
       "    </tr>\n",
       "  </thead>\n",
       "  <tbody>\n",
       "    <tr>\n",
       "      <th>1296</th>\n",
       "      <td>7826803-wolf-hall</td>\n",
       "      <td>Wolf Hall</td>\n",
       "      <td>Thomas Cromwell #1</td>\n",
       "      <td>Hilary Mantel (Goodreads A...</td>\n",
       "      <td>3.88</td>\n",
       "      <td>England in the 1520s is a ...</td>\n",
       "      <td>English</td>\n",
       "      <td>9780312429980</td>\n",
       "      <td>['Historical Fiction', 'Fi...</td>\n",
       "      <td>['Anne Boleyn', 'Thomas Mo...</td>\n",
       "      <td>Paperback</td>\n",
       "      <td>NaN</td>\n",
       "      <td>604</td>\n",
       "      <td>Picador USA</td>\n",
       "      <td>August 31st 2010</td>\n",
       "      <td>04/30/09</td>\n",
       "      <td>['Booker Prize (2009)', 'O...</td>\n",
       "      <td>166123</td>\n",
       "      <td>['62692', '51592', '29341'...</td>\n",
       "      <td>86.0</td>\n",
       "      <td>['Putney (United Kingdom)'...</td>\n",
       "      <td>https://i.gr-assets.com/im...</td>\n",
       "      <td>4109</td>\n",
       "      <td>57</td>\n",
       "      <td>4.2</td>\n",
       "    </tr>\n",
       "    <tr>\n",
       "      <th>25628</th>\n",
       "      <td>19380923-wolf-hall</td>\n",
       "      <td>Wolf Hall</td>\n",
       "      <td>Thomas Cromwell #1</td>\n",
       "      <td>Hilary Mantel (Goodreads A...</td>\n",
       "      <td>3.88</td>\n",
       "      <td>Tudor England. Henry VIII ...</td>\n",
       "      <td>English</td>\n",
       "      <td>9780312429980</td>\n",
       "      <td>['Historical Fiction', 'Fi...</td>\n",
       "      <td>['Anne Boleyn', 'Thomas Mo...</td>\n",
       "      <td>Kindle Edition</td>\n",
       "      <td>NaN</td>\n",
       "      <td>672</td>\n",
       "      <td>Fourth Estate</td>\n",
       "      <td>January 16th 2010</td>\n",
       "      <td>04/30/09</td>\n",
       "      <td>['Booker Prize (2009)', 'O...</td>\n",
       "      <td>166308</td>\n",
       "      <td>['62767', '51656', '29360'...</td>\n",
       "      <td>86.0</td>\n",
       "      <td>['Putney (United Kingdom)'...</td>\n",
       "      <td>https://i.gr-assets.com/im...</td>\n",
       "      <td>98</td>\n",
       "      <td>1</td>\n",
       "      <td>4.2</td>\n",
       "    </tr>\n",
       "  </tbody>\n",
       "</table>\n",
       "</div>"
      ],
      "text/plain": [
       "                   bookId      title              series  \\\n",
       "1296    7826803-wolf-hall  Wolf Hall  Thomas Cromwell #1   \n",
       "25628  19380923-wolf-hall  Wolf Hall  Thomas Cromwell #1   \n",
       "\n",
       "                              author  rating                    description  \\\n",
       "1296   Hilary Mantel (Goodreads A...    3.88  England in the 1520s is a ...   \n",
       "25628  Hilary Mantel (Goodreads A...    3.88  Tudor England. Henry VIII ...   \n",
       "\n",
       "      language           isbn                         genres  \\\n",
       "1296   English  9780312429980  ['Historical Fiction', 'Fi...   \n",
       "25628  English  9780312429980  ['Historical Fiction', 'Fi...   \n",
       "\n",
       "                          characters      bookFormat edition pages  \\\n",
       "1296   ['Anne Boleyn', 'Thomas Mo...       Paperback     NaN   604   \n",
       "25628  ['Anne Boleyn', 'Thomas Mo...  Kindle Edition     NaN   672   \n",
       "\n",
       "           publisher        publishDate firstPublishDate  \\\n",
       "1296     Picador USA   August 31st 2010         04/30/09   \n",
       "25628  Fourth Estate  January 16th 2010         04/30/09   \n",
       "\n",
       "                              awards  numRatings  \\\n",
       "1296   ['Booker Prize (2009)', 'O...      166123   \n",
       "25628  ['Booker Prize (2009)', 'O...      166308   \n",
       "\n",
       "                      ratingsByStars  likedPercent  \\\n",
       "1296   ['62692', '51592', '29341'...          86.0   \n",
       "25628  ['62767', '51656', '29360'...          86.0   \n",
       "\n",
       "                             setting                       coverImg  bbeScore  \\\n",
       "1296   ['Putney (United Kingdom)'...  https://i.gr-assets.com/im...      4109   \n",
       "25628  ['Putney (United Kingdom)'...  https://i.gr-assets.com/im...        98   \n",
       "\n",
       "       bbeVotes  price  \n",
       "1296         57    4.2  \n",
       "25628         1    4.2  "
      ]
     },
     "execution_count": 14,
     "metadata": {},
     "output_type": "execute_result"
    }
   ],
   "source": [
    "# There are 1 incorrect line\n",
    "print(df03.groupby(['isbn'])['publisher'].nunique().sort_values(ascending=False).head(5))\n",
    "df03[df03['isbn'] == '9780312429980'].sort_values('title').head(3)"
   ]
  },
  {
   "cell_type": "code",
   "execution_count": 15,
   "id": "7ef3a8a5",
   "metadata": {},
   "outputs": [
    {
     "name": "stdout",
     "output_type": "stream",
     "text": [
      "Lines before:  52424\n",
      "Lines after:  52423\n"
     ]
    }
   ],
   "source": [
    "# drop the line with less info\n",
    "print('Lines before: ', df03.shape[0])\n",
    "df04 = df03.loc[~((df03[\"isbn\"] == '9780312429980') & (df03[\"bookFormat\"] == 'Kindle Edition'))]\n",
    "print('Lines after: ', df04.shape[0])"
   ]
  },
  {
   "cell_type": "markdown",
   "id": "58972b08",
   "metadata": {},
   "source": [
    "### The same ISBN cannot be used for different formats of the book, whether the book is in printed or electronic form. That means hardcover and softcover versions of the book have to be assigned separate ISBNs."
   ]
  },
  {
   "cell_type": "code",
   "execution_count": 16,
   "id": "10be2b17",
   "metadata": {},
   "outputs": [
    {
     "data": {
      "text/plain": [
       "isbn\n",
       "9780765326355    2\n",
       "9781250166548    2\n",
       "9781452373218    1\n",
       "9781452303680    1\n",
       "9781452305080    1\n",
       "Name: bookFormat, dtype: int64"
      ]
     },
     "execution_count": 16,
     "metadata": {},
     "output_type": "execute_result"
    }
   ],
   "source": [
    "df04.groupby(['isbn'])['bookFormat'].nunique().sort_values(ascending=False).head(5)"
   ]
  },
  {
   "cell_type": "code",
   "execution_count": 17,
   "id": "1dfa3040",
   "metadata": {},
   "outputs": [
    {
     "data": {
      "text/plain": [
       "isbn\n",
       "0000195166000    1\n",
       "9781452365862    1\n",
       "9781452300795    1\n",
       "9781452301679    1\n",
       "9781452303680    1\n",
       "Name: bookFormat, dtype: int64"
      ]
     },
     "execution_count": 17,
     "metadata": {},
     "output_type": "execute_result"
    }
   ],
   "source": [
    "# Update isbn with digits from bookId to make it unique\n",
    "df05 = df04.copy()\n",
    "\n",
    "def replace_isbn(row):\n",
    "    if row['isbn'] in ('9781250166548', '9780765326355'):\n",
    "        m = re.search(r'^\\d+', row['bookId'])\n",
    "        return m.group()\n",
    "    else:\n",
    "        return row['isbn']\n",
    "    \n",
    "df05['isbn'] = df05.apply(replace_isbn, axis=1)\n",
    "df05[df05['isbn']=='9781250166548']\n",
    "\n",
    "df05.groupby(['isbn'])['bookFormat'].nunique().sort_values(ascending=False).head(5)"
   ]
  },
  {
   "cell_type": "markdown",
   "id": "8db194e1",
   "metadata": {},
   "source": [
    "### Clean `description`"
   ]
  },
  {
   "cell_type": "code",
   "execution_count": 18,
   "id": "cbe87864",
   "metadata": {},
   "outputs": [],
   "source": [
    "# '\\\"' found in one book description is impending load as it is not escaped.\n",
    "df05['description'] = df05['description'].str.replace(r'\\\\\"', '', regex=True)"
   ]
  },
  {
   "cell_type": "code",
   "execution_count": 19,
   "id": "5e4f6222",
   "metadata": {},
   "outputs": [
    {
     "data": {
      "text/plain": [
       "isbn\n",
       "0000195166000    1\n",
       "9781452082448    1\n",
       "9781451695199    1\n",
       "9781451695656    1\n",
       "Name: description, dtype: int64"
      ]
     },
     "execution_count": 19,
     "metadata": {},
     "output_type": "execute_result"
    }
   ],
   "source": [
    "pd.set_option('display.max_colwidth', 50)\n",
    "df05.groupby(['isbn'])['description'].nunique().sort_values(ascending=False).head(4)"
   ]
  },
  {
   "cell_type": "markdown",
   "id": "02fd5037",
   "metadata": {},
   "source": [
    "### Clean `publishDate` and `firstPublishDate`"
   ]
  },
  {
   "cell_type": "code",
   "execution_count": 20,
   "id": "3b8e9da0",
   "metadata": {},
   "outputs": [
    {
     "data": {
      "text/plain": [
       "(52423, 25)"
      ]
     },
     "execution_count": 20,
     "metadata": {},
     "output_type": "execute_result"
    }
   ],
   "source": [
    "df05.shape"
   ]
  },
  {
   "cell_type": "code",
   "execution_count": 21,
   "id": "716520d1",
   "metadata": {},
   "outputs": [
    {
     "name": "stdout",
     "output_type": "stream",
     "text": [
      "max length for publishDate:  209.0\n",
      "max length for firstPublishDate:  19.0\n"
     ]
    }
   ],
   "source": [
    "# too long values for date `publishDate`\n",
    "print('max length for publishDate: ', df05['publishDate'].str.len().max())\n",
    "print('max length for firstPublishDate: ',df05['firstPublishDate'].str.len().max())"
   ]
  },
  {
   "cell_type": "code",
   "execution_count": 22,
   "id": "dd96abc0",
   "metadata": {},
   "outputs": [
    {
     "data": {
      "text/plain": [
       "39175    Books With a Goodreads Average Rating of 4.5 or higher and With At Least 100 Ratings\\r\\n\\r\\n578 books — 3,595 voters\\r\\nBooks with a Goodreads score of 4.4 or above with at least 300 ratings\\r\\n\\r\\n254 books — 19 voters\n",
       "Name: publishDate, dtype: object"
      ]
     },
     "execution_count": 22,
     "metadata": {},
     "output_type": "execute_result"
    }
   ],
   "source": [
    "# the look of this long date\n",
    "pd.set_option('display.max_colwidth', 300)\n",
    "df05[df05['publishDate'].str.len()==209]['publishDate']"
   ]
  },
  {
   "cell_type": "code",
   "execution_count": 23,
   "id": "e10328bb",
   "metadata": {},
   "outputs": [
    {
     "name": "stdout",
     "output_type": "stream",
     "text": [
      " Quantity of lines for 'publishDate' with length over 20:  304\n"
     ]
    },
    {
     "data": {
      "text/plain": [
       "2989    Best Books to Read When the Snow Is Falling\\r\\n\\r\\n3,839 books — 3,426 voters\\r\\nI Had No Idea This Book Would Be So Good\\r\\n\\r\\n3,520 books — 2,105 voters\n",
       "3560                                    Most Interesting World\\r\\n\\r\\n3,055 books — 2,474 voters\\r\\nThe Best Omnibuses and Box Sets\\r\\n\\r\\n474 books — 1,604 voters\n",
       "Name: publishDate, dtype: object"
      ]
     },
     "execution_count": 23,
     "metadata": {},
     "output_type": "execute_result"
    }
   ],
   "source": [
    "# max sensible data string length including month names is 20.\n",
    "# But there are over 300 longer entries to data column.\n",
    "\n",
    "print(\" Quantity of lines for 'publishDate' with length over 20: \", df05[(df05['publishDate'].str.len() > 20)]['publishDate'].count())\n",
    "df05[df05['publishDate'].str.len() > 20].publishDate.head(2)\n"
   ]
  },
  {
   "cell_type": "code",
   "execution_count": 24,
   "id": "e48523e0",
   "metadata": {},
   "outputs": [
    {
     "name": "stdout",
     "output_type": "stream",
     "text": [
      "Nulls before:  879\n",
      "Nulls after:  1778\n"
     ]
    },
    {
     "name": "stderr",
     "output_type": "stream",
     "text": [
      "/tmp/ipykernel_519867/4108337641.py:7: UserWarning: This pattern is interpreted as a regular expression, and has match groups. To actually get the groups, use str.extract.\n",
      "  df06['publishDate'] = np.where(df06['publishDate'].str.contains(\n"
     ]
    }
   ],
   "source": [
    "# Clean not date data format.  Change to null.\n",
    "df06 = df05.copy()\n",
    "print('Nulls before: ', df06['publishDate'].isna().sum())\n",
    "\n",
    "df06['publishDate'] = df06['publishDate'].str.strip()\n",
    "df06['publishDate'] = np.where(df06['publishDate'].str.len() > 20, np.NaN, df06['publishDate'])\n",
    "df06['publishDate'] = np.where(df06['publishDate'].str.contains(\n",
    "    r'^[a-zA-Z]*$|^([a-zA-Z]*\\s)+[a-zA-Z]*$', na=False, regex=True), np.NaN, df06['publishDate'])\n",
    "\n",
    "print('Nulls after: ', df06['publishDate'].isna().sum())"
   ]
  },
  {
   "cell_type": "code",
   "execution_count": 25,
   "id": "55f91b82",
   "metadata": {},
   "outputs": [],
   "source": [
    "def convert_date(dft, col):\n",
    "    \"\"\"Function to transform date format strings to date data type\"\"\"\n",
    "    date_formats = [\n",
    "        \"%m/%d/%y\",\n",
    "        \"%B %d %Y\",\n",
    "        \"%B %dth %Y\",\n",
    "        \"%B %dst %Y\",\n",
    "        \"%B %dnd %Y\",\n",
    "        \"%B %drd %Y\",\n",
    "        \"%B %Y\",\n",
    "        \"%Y\"\n",
    "    ]\n",
    " \n",
    "    for format_str in date_formats:\n",
    "        dft[col] = pd.to_datetime(dft[col], format=format_str, errors='ignore')\n",
    "\n",
    "    dft[col] = pd.to_datetime(dft[col], errors='coerce')\n",
    "    return dft\n",
    "    "
   ]
  },
  {
   "cell_type": "code",
   "execution_count": 26,
   "id": "f91f4495",
   "metadata": {},
   "outputs": [
    {
     "name": "stdout",
     "output_type": "stream",
     "text": [
      "0   2008-09-14\n",
      "1   2004-09-28\n",
      "2   2006-05-23\n",
      "Name: publishDate, dtype: datetime64[ns]\n",
      "0          NaT\n",
      "1   2003-06-21\n",
      "2   1960-07-11\n",
      "Name: firstPublishDate, dtype: datetime64[ns]\n"
     ]
    }
   ],
   "source": [
    "# Clean date format to date data type.\n",
    "\n",
    "df06['publishDate'] = df06['publishDate'].str.replace(r'\\s+(\\d(?:st|nd|rd|th)?)\\s+', r' 0\\1 ', regex=True)\n",
    "\n",
    "df061 = df06.copy()\n",
    "df07 = convert_date(df061, 'publishDate')\n",
    "df08 = convert_date(df07, 'firstPublishDate')\n",
    "\n",
    "# Correct \"future\" publishdates. E.g. 06/21/60 is not 2060-06-21. We can determine correct dates between 00-22, but it is a dataset problem.\n",
    "df08['firstPublishDate'] = np.where(df08['firstPublishDate'].dt.year > 2022,\n",
    "                                    (df08['firstPublishDate'] - pd.DateOffset(years=100)),\n",
    "                                    df08['firstPublishDate'])\n",
    "df08['publishDate'] = np.where(df08['publishDate'].dt.year > 2022,\n",
    "                               (df08['publishDate'] - pd.DateOffset(years=100)),\n",
    "                               df08['publishDate'])\n",
    "\n",
    "print(df08['publishDate'].head(3))\n",
    "print(df08['firstPublishDate'].head(3))"
   ]
  },
  {
   "cell_type": "code",
   "execution_count": 27,
   "id": "6e495aaa",
   "metadata": {},
   "outputs": [
    {
     "name": "stdout",
     "output_type": "stream",
     "text": [
      "<class 'pandas.core.frame.DataFrame'>\n",
      "Int64Index: 52423 entries, 0 to 52477\n",
      "Data columns (total 2 columns):\n",
      " #   Column            Non-Null Count  Dtype         \n",
      "---  ------            --------------  -----         \n",
      " 0   publishDate       50639 non-null  datetime64[ns]\n",
      " 1   firstPublishDate  31104 non-null  datetime64[ns]\n",
      "dtypes: datetime64[ns](2)\n",
      "memory usage: 1.2 MB\n"
     ]
    }
   ],
   "source": [
    "df08[['publishDate', 'firstPublishDate']].info()"
   ]
  },
  {
   "cell_type": "code",
   "execution_count": 28,
   "id": "95e9f121",
   "metadata": {},
   "outputs": [
    {
     "data": {
      "text/plain": [
       "title                        author                                            \n",
       "The Little House Collection  Laura Ingalls Wilder, Garth Williams (Illustrator)    2\n",
       "A Song of Ice and Fire       George R.R. Martin                                    2\n",
       "Eugene Onegin                Alexander Pushkin, James E. Falen (Translator)        2\n",
       "Oscar and Lucinda            Peter Carey                                           1\n",
       "Motherless Brooklyn          Jonathan Lethem                                       1\n",
       "Name: firstPublishDate, dtype: int64"
      ]
     },
     "execution_count": 28,
     "metadata": {},
     "output_type": "execute_result"
    }
   ],
   "source": [
    "# Book (title and author) should have unique 'firstPublishDate'\n",
    "df08.groupby(['title', 'author'])['firstPublishDate'].nunique().sort_values(ascending=False).head(5)\n"
   ]
  },
  {
   "cell_type": "code",
   "execution_count": 29,
   "id": "a834c239",
   "metadata": {},
   "outputs": [],
   "source": [
    "#  Update values for 'firstPublishDate' for 3 inconsistent rows\n",
    "\n",
    "df08['firstPublishDate'] = np.where(df08['isbn'] =='9780199538645', np.datetime64('1933-10-28'), df08['firstPublishDate'])\n",
    "df08['firstPublishDate'] = np.where(df08['isbn'] =='9780060529963', np.datetime64('1932-10-30'), df08['firstPublishDate'])\n",
    "df08['firstPublishDate'] = np.where(df08['isbn'] =='9780345529053', np.datetime64('2000-10-28'), df08['firstPublishDate'])\n"
   ]
  },
  {
   "cell_type": "code",
   "execution_count": 30,
   "id": "7be2d8ea",
   "metadata": {},
   "outputs": [
    {
     "data": {
      "text/plain": [
       "(52423, 25)"
      ]
     },
     "execution_count": 30,
     "metadata": {},
     "output_type": "execute_result"
    }
   ],
   "source": [
    "df08.shape"
   ]
  },
  {
   "cell_type": "markdown",
   "id": "c34731f8",
   "metadata": {},
   "source": [
    "### Clean `pages`"
   ]
  },
  {
   "cell_type": "code",
   "execution_count": 31,
   "id": "9939229e",
   "metadata": {},
   "outputs": [],
   "source": [
    "# Pages column should contains integers. Book can not have only 1 page. It is a mistake.\n",
    "df09 = df08.copy()\n",
    "df09['pages'] =  df09['pages'].str.replace('1 page', '', regex=True)"
   ]
  },
  {
   "cell_type": "markdown",
   "id": "32a035a5",
   "metadata": {},
   "source": [
    "## Save clean total dataset"
   ]
  },
  {
   "cell_type": "markdown",
   "id": "1422dc46",
   "metadata": {},
   "source": [
    "### Prepare list like columns  for loading to postgres"
   ]
  },
  {
   "cell_type": "code",
   "execution_count": 32,
   "id": "0bb0ca54",
   "metadata": {},
   "outputs": [],
   "source": [
    "total = df09.copy()\n",
    "for col in ['genres', 'setting', 'ratingsByStars', 'awards']:\n",
    "    total[col] = total[col].apply(literal_eval)"
   ]
  },
  {
   "cell_type": "code",
   "execution_count": 33,
   "id": "55535384",
   "metadata": {},
   "outputs": [],
   "source": [
    "total.to_csv('docs/data-preparation_total.csv', index=False) #, lineterminator='\\n')"
   ]
  },
  {
   "cell_type": "code",
   "execution_count": 34,
   "id": "af79adc9",
   "metadata": {},
   "outputs": [
    {
     "data": {
      "text/plain": [
       "Index(['bookId', 'title', 'series', 'author', 'rating', 'description',\n",
       "       'language', 'isbn', 'genres', 'characters', 'bookFormat', 'edition',\n",
       "       'pages', 'publisher', 'publishDate', 'firstPublishDate', 'awards',\n",
       "       'numRatings', 'ratingsByStars', 'likedPercent', 'setting', 'coverImg',\n",
       "       'bbeScore', 'bbeVotes', 'price'],\n",
       "      dtype='object')"
      ]
     },
     "execution_count": 34,
     "metadata": {},
     "output_type": "execute_result"
    }
   ],
   "source": [
    "total.columns"
   ]
  },
  {
   "cell_type": "markdown",
   "id": "54d3a931",
   "metadata": {},
   "source": [
    "## Prepare tables for load and save"
   ]
  },
  {
   "cell_type": "markdown",
   "id": "bdc5903c",
   "metadata": {},
   "source": [
    "### 1 . book"
   ]
  },
  {
   "cell_type": "code",
   "execution_count": 35,
   "id": "662d67a4",
   "metadata": {},
   "outputs": [
    {
     "data": {
      "text/plain": [
       "0    {\"Katniss Everdeen\", \"Peeta Mellark\", \"Cato (Hunger Games)\", \"Primrose Everdeen\", \"Gale Hawthorne\", \"Effie Trinket\", \"Haymitch Abernathy\", \"Cinna\", \"President Coriolanus Snow\", \"Rue\", \"Flavius\", \"Lavinia (Hunger Games)\", \"Marvel\", \"Glimmer\", \"Clove\", \"Foxface\", \"Thresh\", \"Greasy Sae\", \"Madge Und...\n",
       "1    {\"Sirius Black\", \"Draco Malfoy\", \"Ron Weasley\", \"Petunia Dursley\", \"Vernon Dursley\", \"Dudley Dursley\", \"Severus Snape\", \"Rubeus Hagrid\", \"Lord Voldemort\", \"Minerva McGonagall\", \"Neville Longbottom\", \"Fred Weasley\", \"George Weasley\", \"Percy Weasley\", \"Ginny Weasley\", \"Colin Creevey\", \"Filius Flit...\n",
       "Name: characters, dtype: object"
      ]
     },
     "execution_count": 35,
     "metadata": {},
     "output_type": "execute_result"
    }
   ],
   "source": [
    "# prepare to load characters as a list (postgres array)\n",
    "book = df09.copy()\n",
    "to_replace = {'^\\[(\\'|\\\")': '{\\\"',\n",
    "              '(\\'|\\\")\\]$': '\\\"}',\n",
    "              '(\\'|\\\"), (\\'|\\\")': '\\\", \\\"',\n",
    "              '\\[\\]': '',\n",
    "              ',(\\'|\\\")': '\\\"'}\n",
    "# = {'^\\[': '{',\n",
    " #             '\\]$': '}'}\n",
    "\n",
    "book['characters'] = book['characters'].replace(to_replace, regex=True)\n",
    "book['characters'].head(2)"
   ]
  },
  {
   "cell_type": "code",
   "execution_count": 36,
   "id": "c0bbe3d6",
   "metadata": {},
   "outputs": [
    {
     "data": {
      "text/html": [
       "<div>\n",
       "<style scoped>\n",
       "    .dataframe tbody tr th:only-of-type {\n",
       "        vertical-align: middle;\n",
       "    }\n",
       "\n",
       "    .dataframe tbody tr th {\n",
       "        vertical-align: top;\n",
       "    }\n",
       "\n",
       "    .dataframe thead th {\n",
       "        text-align: right;\n",
       "    }\n",
       "</style>\n",
       "<table border=\"1\" class=\"dataframe\">\n",
       "  <thead>\n",
       "    <tr style=\"text-align: right;\">\n",
       "      <th></th>\n",
       "      <th>title</th>\n",
       "      <th>author</th>\n",
       "      <th>firstPublishDate</th>\n",
       "      <th>characters</th>\n",
       "    </tr>\n",
       "  </thead>\n",
       "  <tbody>\n",
       "    <tr>\n",
       "      <th>0</th>\n",
       "      <td>The Hunger Games</td>\n",
       "      <td>Suzanne Collins</td>\n",
       "      <td>NaT</td>\n",
       "      <td>{\"Katniss Everdeen\", \"Peeta Mellark\", \"Cato (Hunger Games)\", \"Primrose Everdeen\", \"Gale Hawthorne\", \"Effie Trinket\", \"Haymitch Abernathy\", \"Cinna\", \"President Coriolanus Snow\", \"Rue\", \"Flavius\", \"Lavinia (Hunger Games)\", \"Marvel\", \"Glimmer\", \"Clove\", \"Foxface\", \"Thresh\", \"Greasy Sae\", \"Madge Und...</td>\n",
       "    </tr>\n",
       "    <tr>\n",
       "      <th>1</th>\n",
       "      <td>Harry Potter and the Order of the Phoenix</td>\n",
       "      <td>J.K. Rowling, Mary GrandPré (Illustrator)</td>\n",
       "      <td>2003-06-21</td>\n",
       "      <td>{\"Sirius Black\", \"Draco Malfoy\", \"Ron Weasley\", \"Petunia Dursley\", \"Vernon Dursley\", \"Dudley Dursley\", \"Severus Snape\", \"Rubeus Hagrid\", \"Lord Voldemort\", \"Minerva McGonagall\", \"Neville Longbottom\", \"Fred Weasley\", \"George Weasley\", \"Percy Weasley\", \"Ginny Weasley\", \"Colin Creevey\", \"Filius Flit...</td>\n",
       "    </tr>\n",
       "    <tr>\n",
       "      <th>2</th>\n",
       "      <td>To Kill a Mockingbird</td>\n",
       "      <td>Harper Lee</td>\n",
       "      <td>1960-07-11</td>\n",
       "      <td>{\"Scout Finch\", \"Atticus Finch\", \"Jem Finch\", \"Arthur Radley\", \"Mayella Ewell\", \"Aunt Alexandra\", \"Bob Ewell\", \"Calpurnia (housekeeper)\", \"Tom Robinson\", \"Miss Maudie Atkinson\", \"Judge John Taylor\", \"Dill Harris\", \"Heck Tate\", \"Stephanie Crawford\"}</td>\n",
       "    </tr>\n",
       "    <tr>\n",
       "      <th>3</th>\n",
       "      <td>Pride and Prejudice</td>\n",
       "      <td>Jane Austen, Anna Quindlen (Introduction)</td>\n",
       "      <td>2013-01-28</td>\n",
       "      <td>{\"Mr. Bennet\", \"Mrs. Bennet\", \"Jane Bennet\", \"Elizabeth Bennet\", \"Mary Bennet\", \"Kitty Bennet\", \"Lydia Bennet\", \"Louisa Hurst\", \"Caroline Bingley\", \"Fitzwilliam Darcy\", \"Georgiana Darcy\", \"Lady Catherine de Bourgh\", \"Anne de Bourgh\", \"Colonel Fitzwilliam\", \"Mr. Gardiner\", \"Mrs. Gardiner\", \"Sir W...</td>\n",
       "    </tr>\n",
       "    <tr>\n",
       "      <th>4</th>\n",
       "      <td>Twilight</td>\n",
       "      <td>Stephenie Meyer</td>\n",
       "      <td>2005-10-05</td>\n",
       "      <td>{\"Edward Cullen\", \"Jacob Black\", \"Laurent\", \"Renee\", \"Bella Swan\", \"Billy Black\", \"Esme Cullen\", \"Alice Cullen\", \"Jasper Hale\", \"Carlisle Cullen\", \"Emmett Cullen\", \"Rosalie Hale\", \"Charlie Swan\", \"Mike Newton\", \"Jessica Stanley\", \"Angela Weber\", \"Tyler Crowley\"}</td>\n",
       "    </tr>\n",
       "  </tbody>\n",
       "</table>\n",
       "</div>"
      ],
      "text/plain": [
       "                                       title  \\\n",
       "0                           The Hunger Games   \n",
       "1  Harry Potter and the Order of the Phoenix   \n",
       "2                      To Kill a Mockingbird   \n",
       "3                        Pride and Prejudice   \n",
       "4                                   Twilight   \n",
       "\n",
       "                                      author firstPublishDate  \\\n",
       "0                            Suzanne Collins              NaT   \n",
       "1  J.K. Rowling, Mary GrandPré (Illustrator)       2003-06-21   \n",
       "2                                 Harper Lee       1960-07-11   \n",
       "3  Jane Austen, Anna Quindlen (Introduction)       2013-01-28   \n",
       "4                            Stephenie Meyer       2005-10-05   \n",
       "\n",
       "                                                                                                                                                                                                                                                                                                    characters  \n",
       "0  {\"Katniss Everdeen\", \"Peeta Mellark\", \"Cato (Hunger Games)\", \"Primrose Everdeen\", \"Gale Hawthorne\", \"Effie Trinket\", \"Haymitch Abernathy\", \"Cinna\", \"President Coriolanus Snow\", \"Rue\", \"Flavius\", \"Lavinia (Hunger Games)\", \"Marvel\", \"Glimmer\", \"Clove\", \"Foxface\", \"Thresh\", \"Greasy Sae\", \"Madge Und...  \n",
       "1  {\"Sirius Black\", \"Draco Malfoy\", \"Ron Weasley\", \"Petunia Dursley\", \"Vernon Dursley\", \"Dudley Dursley\", \"Severus Snape\", \"Rubeus Hagrid\", \"Lord Voldemort\", \"Minerva McGonagall\", \"Neville Longbottom\", \"Fred Weasley\", \"George Weasley\", \"Percy Weasley\", \"Ginny Weasley\", \"Colin Creevey\", \"Filius Flit...  \n",
       "2                                                     {\"Scout Finch\", \"Atticus Finch\", \"Jem Finch\", \"Arthur Radley\", \"Mayella Ewell\", \"Aunt Alexandra\", \"Bob Ewell\", \"Calpurnia (housekeeper)\", \"Tom Robinson\", \"Miss Maudie Atkinson\", \"Judge John Taylor\", \"Dill Harris\", \"Heck Tate\", \"Stephanie Crawford\"}  \n",
       "3  {\"Mr. Bennet\", \"Mrs. Bennet\", \"Jane Bennet\", \"Elizabeth Bennet\", \"Mary Bennet\", \"Kitty Bennet\", \"Lydia Bennet\", \"Louisa Hurst\", \"Caroline Bingley\", \"Fitzwilliam Darcy\", \"Georgiana Darcy\", \"Lady Catherine de Bourgh\", \"Anne de Bourgh\", \"Colonel Fitzwilliam\", \"Mr. Gardiner\", \"Mrs. Gardiner\", \"Sir W...  \n",
       "4                                       {\"Edward Cullen\", \"Jacob Black\", \"Laurent\", \"Renee\", \"Bella Swan\", \"Billy Black\", \"Esme Cullen\", \"Alice Cullen\", \"Jasper Hale\", \"Carlisle Cullen\", \"Emmett Cullen\", \"Rosalie Hale\", \"Charlie Swan\", \"Mike Newton\", \"Jessica Stanley\", \"Angela Weber\", \"Tyler Crowley\"}  "
      ]
     },
     "execution_count": 36,
     "metadata": {},
     "output_type": "execute_result"
    }
   ],
   "source": [
    "# book table (title, author, firstPublishDate, characters)\n",
    "book = book[['title', 'author', 'firstPublishDate', 'characters']]\n",
    "book = book.drop_duplicates()\n",
    "book.head(5)"
   ]
  },
  {
   "cell_type": "code",
   "execution_count": 37,
   "id": "2a6da9a0",
   "metadata": {},
   "outputs": [],
   "source": [
    "# Function to get the row with maximum length\n",
    "def get_longest_row(group):\n",
    "    return group.loc[group['characters'].str.len().idxmax()]\n",
    "\n",
    "\n",
    "# Grouping by 'title' and 'author', and selecting the genre with maximum length (most info)\n",
    "book = book.groupby(['title', 'author']).apply(get_longest_row).reset_index(drop=True)\n"
   ]
  },
  {
   "cell_type": "code",
   "execution_count": 38,
   "id": "21e19143",
   "metadata": {},
   "outputs": [
    {
     "name": "stdout",
     "output_type": "stream",
     "text": [
      "<class 'pandas.core.frame.DataFrame'>\n",
      "RangeIndex: 52390 entries, 0 to 52389\n",
      "Data columns (total 4 columns):\n",
      " #   Column            Non-Null Count  Dtype         \n",
      "---  ------            --------------  -----         \n",
      " 0   title             52390 non-null  object        \n",
      " 1   author            52390 non-null  object        \n",
      " 2   firstPublishDate  31093 non-null  datetime64[ns]\n",
      " 3   characters        52390 non-null  object        \n",
      "dtypes: datetime64[ns](1), object(3)\n",
      "memory usage: 1.6+ MB\n"
     ]
    }
   ],
   "source": [
    "book.info()"
   ]
  },
  {
   "cell_type": "code",
   "execution_count": 39,
   "id": "07e537d5",
   "metadata": {},
   "outputs": [],
   "source": [
    "book.to_csv('docs/book.csv', index=False)"
   ]
  },
  {
   "cell_type": "markdown",
   "id": "c6ea6bab",
   "metadata": {},
   "source": [
    "### 2. genre"
   ]
  },
  {
   "cell_type": "code",
   "execution_count": 40,
   "id": "871255c3",
   "metadata": {},
   "outputs": [
    {
     "data": {
      "text/plain": [
       "title                                           author                               \n",
       "Limits of Destiny                               Sharlyn G. Branson (Goodreads Author)    5\n",
       "Poderosa                                        Sérgio Klein                             3\n",
       "The Way of Kings                                Brandon Sanderson (Goodreads Author)     3\n",
       "The Spaghetti Set: Family Served Italian Style  Rose Marie Boyd (Goodreads Author)       2\n",
       "Ice Station                                     Matthew Reilly                           2\n",
       "                                                                                        ..\n",
       "I, Claudius                                     Robert Graves                            1\n",
       "I, Claudius/Claudius the God                    Robert Graves                            1\n",
       "I, Coriander                                    Sally Gardner                            1\n",
       "I, Cosmo                                        Carlie Sorosiak (Goodreads Author)       1\n",
       "신의 탑 1 [Tower of God]                           SIU                                      1\n",
       "Name: genres, Length: 52390, dtype: int64"
      ]
     },
     "execution_count": 40,
     "metadata": {},
     "output_type": "execute_result"
    }
   ],
   "source": [
    "df09.groupby(['title', 'author'])['genres'].count().sort_values(ascending=False)"
   ]
  },
  {
   "cell_type": "code",
   "execution_count": 41,
   "id": "55e085f9",
   "metadata": {},
   "outputs": [],
   "source": [
    "# table genre (title, author, genres)\n",
    "genre = df09[['title', 'author', 'genres']]"
   ]
  },
  {
   "cell_type": "code",
   "execution_count": 42,
   "id": "9b3147d4",
   "metadata": {},
   "outputs": [],
   "source": [
    "# deduplicate\n",
    "genre = genre.drop_duplicates()\n",
    "genre = genre[genre['genres'] != '[]']"
   ]
  },
  {
   "cell_type": "code",
   "execution_count": 43,
   "id": "abc476ec",
   "metadata": {},
   "outputs": [],
   "source": [
    "import pandas as pd\n",
    "from ast import literal_eval\n",
    "\n",
    "# change to list, remove nulls\n",
    "genre['genres'] = genre['genres'].apply(literal_eval)"
   ]
  },
  {
   "cell_type": "code",
   "execution_count": 44,
   "id": "360196dd",
   "metadata": {},
   "outputs": [],
   "source": [
    "# Function to get the row with maximum length\n",
    "def get_longest_row(group):\n",
    "    return group.loc[group['genres'].str.len().idxmax()]\n",
    "\n",
    "# Grouping by 'title' and 'author', and selecting the genre with maximum length\n",
    "genre = genre.groupby(['title', 'author']).apply(get_longest_row).reset_index(drop=True)\n"
   ]
  },
  {
   "cell_type": "code",
   "execution_count": 45,
   "id": "2c23547f",
   "metadata": {},
   "outputs": [
    {
     "data": {
      "text/plain": [
       "title                                                  author                       \n",
       "!از قر و قمبیل‌های قلمی بی‌قال و قیل                   بزرگمهر حسین پور                 1\n",
       "The Book of Psalms: A Translation with Commentary      Robert Alter                     1\n",
       "The Book of Mormon: Another Testament of Jesus Christ  Joseph Smith Jr. (Translator)    1\n",
       "Name: genres, dtype: int64"
      ]
     },
     "execution_count": 45,
     "metadata": {},
     "output_type": "execute_result"
    }
   ],
   "source": [
    "genre.groupby(['title', 'author'])['genres'].count().sort_values(ascending=False).head(3)"
   ]
  },
  {
   "cell_type": "code",
   "execution_count": 46,
   "id": "5ce1ae3c",
   "metadata": {},
   "outputs": [
    {
     "name": "stdout",
     "output_type": "stream",
     "text": [
      "<class 'pandas.core.frame.DataFrame'>\n",
      "RangeIndex: 47775 entries, 0 to 47774\n",
      "Data columns (total 3 columns):\n",
      " #   Column  Non-Null Count  Dtype \n",
      "---  ------  --------------  ----- \n",
      " 0   title   47775 non-null  object\n",
      " 1   author  47775 non-null  object\n",
      " 2   genres  47775 non-null  object\n",
      "dtypes: object(3)\n",
      "memory usage: 1.1+ MB\n"
     ]
    }
   ],
   "source": [
    "genre.info()"
   ]
  },
  {
   "cell_type": "code",
   "execution_count": 47,
   "id": "afb3fea1",
   "metadata": {},
   "outputs": [
    {
     "data": {
      "text/html": [
       "<div>\n",
       "<style scoped>\n",
       "    .dataframe tbody tr th:only-of-type {\n",
       "        vertical-align: middle;\n",
       "    }\n",
       "\n",
       "    .dataframe tbody tr th {\n",
       "        vertical-align: top;\n",
       "    }\n",
       "\n",
       "    .dataframe thead th {\n",
       "        text-align: right;\n",
       "    }\n",
       "</style>\n",
       "<table border=\"1\" class=\"dataframe\">\n",
       "  <thead>\n",
       "    <tr style=\"text-align: right;\">\n",
       "      <th></th>\n",
       "      <th>title</th>\n",
       "      <th>author</th>\n",
       "      <th>genres</th>\n",
       "    </tr>\n",
       "  </thead>\n",
       "  <tbody>\n",
       "    <tr>\n",
       "      <th>0</th>\n",
       "      <td>!از قر و قمبیل‌های قلمی بی‌قال و قیل</td>\n",
       "      <td>بزرگمهر حسین پور</td>\n",
       "      <td>Comics</td>\n",
       "    </tr>\n",
       "    <tr>\n",
       "      <th>0</th>\n",
       "      <td>!از قر و قمبیل‌های قلمی بی‌قال و قیل</td>\n",
       "      <td>بزرگمهر حسین پور</td>\n",
       "      <td>Humor</td>\n",
       "    </tr>\n",
       "    <tr>\n",
       "      <th>1</th>\n",
       "      <td>\"A Problem from Hell\": America and the Age of Genocide</td>\n",
       "      <td>Samantha Power</td>\n",
       "      <td>Nonfiction</td>\n",
       "    </tr>\n",
       "    <tr>\n",
       "      <th>1</th>\n",
       "      <td>\"A Problem from Hell\": America and the Age of Genocide</td>\n",
       "      <td>Samantha Power</td>\n",
       "      <td>History</td>\n",
       "    </tr>\n",
       "    <tr>\n",
       "      <th>1</th>\n",
       "      <td>\"A Problem from Hell\": America and the Age of Genocide</td>\n",
       "      <td>Samantha Power</td>\n",
       "      <td>Politics</td>\n",
       "    </tr>\n",
       "  </tbody>\n",
       "</table>\n",
       "</div>"
      ],
      "text/plain": [
       "                                                    title            author  \\\n",
       "0                    !از قر و قمبیل‌های قلمی بی‌قال و قیل  بزرگمهر حسین پور   \n",
       "0                    !از قر و قمبیل‌های قلمی بی‌قال و قیل  بزرگمهر حسین پور   \n",
       "1  \"A Problem from Hell\": America and the Age of Genocide    Samantha Power   \n",
       "1  \"A Problem from Hell\": America and the Age of Genocide    Samantha Power   \n",
       "1  \"A Problem from Hell\": America and the Age of Genocide    Samantha Power   \n",
       "\n",
       "       genres  \n",
       "0      Comics  \n",
       "0       Humor  \n",
       "1  Nonfiction  \n",
       "1     History  \n",
       "1    Politics  "
      ]
     },
     "execution_count": 47,
     "metadata": {},
     "output_type": "execute_result"
    }
   ],
   "source": [
    "# one genre per book line\n",
    "genre = genre.explode('genres')\n",
    "genre.head(5)"
   ]
  },
  {
   "cell_type": "code",
   "execution_count": 48,
   "id": "cb35e307",
   "metadata": {},
   "outputs": [],
   "source": [
    "genre.to_csv('docs/genre.csv', index=False)"
   ]
  },
  {
   "cell_type": "markdown",
   "id": "b8cbdf03",
   "metadata": {},
   "source": [
    "### 3. setting"
   ]
  },
  {
   "cell_type": "code",
   "execution_count": 49,
   "id": "b715b07d",
   "metadata": {},
   "outputs": [
    {
     "data": {
      "text/plain": [
       "title                                           author                               \n",
       "Limits of Destiny                               Sharlyn G. Branson (Goodreads Author)    5\n",
       "Poderosa                                        Sérgio Klein                             3\n",
       "The Way of Kings                                Brandon Sanderson (Goodreads Author)     3\n",
       "The Spaghetti Set: Family Served Italian Style  Rose Marie Boyd (Goodreads Author)       2\n",
       "Ice Station                                     Matthew Reilly                           2\n",
       "                                                                                        ..\n",
       "I, Claudius                                     Robert Graves                            1\n",
       "I, Claudius/Claudius the God                    Robert Graves                            1\n",
       "I, Coriander                                    Sally Gardner                            1\n",
       "I, Cosmo                                        Carlie Sorosiak (Goodreads Author)       1\n",
       "신의 탑 1 [Tower of God]                           SIU                                      1\n",
       "Name: setting, Length: 52390, dtype: int64"
      ]
     },
     "execution_count": 49,
     "metadata": {},
     "output_type": "execute_result"
    }
   ],
   "source": [
    "# setting table (title, author, setting) \n",
    "df09.groupby(['title', 'author'])['setting'].count().sort_values(ascending=False)"
   ]
  },
  {
   "cell_type": "code",
   "execution_count": 50,
   "id": "c0c6f449",
   "metadata": {},
   "outputs": [
    {
     "data": {
      "text/html": [
       "<div>\n",
       "<style scoped>\n",
       "    .dataframe tbody tr th:only-of-type {\n",
       "        vertical-align: middle;\n",
       "    }\n",
       "\n",
       "    .dataframe tbody tr th {\n",
       "        vertical-align: top;\n",
       "    }\n",
       "\n",
       "    .dataframe thead th {\n",
       "        text-align: right;\n",
       "    }\n",
       "</style>\n",
       "<table border=\"1\" class=\"dataframe\">\n",
       "  <thead>\n",
       "    <tr style=\"text-align: right;\">\n",
       "      <th></th>\n",
       "      <th>title</th>\n",
       "      <th>author</th>\n",
       "      <th>setting</th>\n",
       "    </tr>\n",
       "  </thead>\n",
       "  <tbody>\n",
       "    <tr>\n",
       "      <th>0</th>\n",
       "      <td>The Hunger Games</td>\n",
       "      <td>Suzanne Collins</td>\n",
       "      <td>['District 12, Panem', 'Capitol, Panem', 'Panem (United States)']</td>\n",
       "    </tr>\n",
       "    <tr>\n",
       "      <th>1</th>\n",
       "      <td>Harry Potter and the Order of the Phoenix</td>\n",
       "      <td>J.K. Rowling, Mary GrandPré (Illustrator)</td>\n",
       "      <td>['Hogwarts School of Witchcraft and Wizardry (United Kingdom)', 'London, England']</td>\n",
       "    </tr>\n",
       "  </tbody>\n",
       "</table>\n",
       "</div>"
      ],
      "text/plain": [
       "                                       title  \\\n",
       "0                           The Hunger Games   \n",
       "1  Harry Potter and the Order of the Phoenix   \n",
       "\n",
       "                                      author  \\\n",
       "0                            Suzanne Collins   \n",
       "1  J.K. Rowling, Mary GrandPré (Illustrator)   \n",
       "\n",
       "                                                                              setting  \n",
       "0                   ['District 12, Panem', 'Capitol, Panem', 'Panem (United States)']  \n",
       "1  ['Hogwarts School of Witchcraft and Wizardry (United Kingdom)', 'London, England']  "
      ]
     },
     "execution_count": 50,
     "metadata": {},
     "output_type": "execute_result"
    }
   ],
   "source": [
    "# deduplicate and remove empty values\n",
    "setting = df09[['title', 'author', 'setting']]\n",
    "setting = setting.drop_duplicates()\n",
    "setting = setting[setting['setting'] != '[]']\n",
    "setting.head(2)"
   ]
  },
  {
   "cell_type": "code",
   "execution_count": 51,
   "id": "beecde6c",
   "metadata": {},
   "outputs": [
    {
     "data": {
      "text/html": [
       "<div>\n",
       "<style scoped>\n",
       "    .dataframe tbody tr th:only-of-type {\n",
       "        vertical-align: middle;\n",
       "    }\n",
       "\n",
       "    .dataframe tbody tr th {\n",
       "        vertical-align: top;\n",
       "    }\n",
       "\n",
       "    .dataframe thead th {\n",
       "        text-align: right;\n",
       "    }\n",
       "</style>\n",
       "<table border=\"1\" class=\"dataframe\">\n",
       "  <thead>\n",
       "    <tr style=\"text-align: right;\">\n",
       "      <th></th>\n",
       "      <th>title</th>\n",
       "      <th>author</th>\n",
       "      <th>setting</th>\n",
       "    </tr>\n",
       "  </thead>\n",
       "  <tbody>\n",
       "    <tr>\n",
       "      <th>0</th>\n",
       "      <td>The Hunger Games</td>\n",
       "      <td>Suzanne Collins</td>\n",
       "      <td>[District 12, Panem, Capitol, Panem, Panem (United States)]</td>\n",
       "    </tr>\n",
       "    <tr>\n",
       "      <th>1</th>\n",
       "      <td>Harry Potter and the Order of the Phoenix</td>\n",
       "      <td>J.K. Rowling, Mary GrandPré (Illustrator)</td>\n",
       "      <td>[Hogwarts School of Witchcraft and Wizardry (United Kingdom), London, England]</td>\n",
       "    </tr>\n",
       "  </tbody>\n",
       "</table>\n",
       "</div>"
      ],
      "text/plain": [
       "                                       title  \\\n",
       "0                           The Hunger Games   \n",
       "1  Harry Potter and the Order of the Phoenix   \n",
       "\n",
       "                                      author  \\\n",
       "0                            Suzanne Collins   \n",
       "1  J.K. Rowling, Mary GrandPré (Illustrator)   \n",
       "\n",
       "                                                                          setting  \n",
       "0                     [District 12, Panem, Capitol, Panem, Panem (United States)]  \n",
       "1  [Hogwarts School of Witchcraft and Wizardry (United Kingdom), London, England]  "
      ]
     },
     "execution_count": 51,
     "metadata": {},
     "output_type": "execute_result"
    }
   ],
   "source": [
    "# make it a list\n",
    "setting['setting'] = setting['setting'].apply(literal_eval)\n",
    "setting.head(2)"
   ]
  },
  {
   "cell_type": "code",
   "execution_count": 52,
   "id": "c37621b8",
   "metadata": {},
   "outputs": [],
   "source": [
    "# Function to get the row with maximum length\n",
    "def get_longest_row(group):\n",
    "    return group.loc[group['setting'].str.len().idxmax()]\n",
    "\n",
    "# Grouping by 'title' and 'author', and selecting the row with maximum length, most info\n",
    "setting = setting.groupby(['title', 'author']).apply(get_longest_row).reset_index(drop=True)"
   ]
  },
  {
   "cell_type": "code",
   "execution_count": 53,
   "id": "98e6d33f",
   "metadata": {},
   "outputs": [
    {
     "name": "stdout",
     "output_type": "stream",
     "text": [
      "<class 'pandas.core.frame.DataFrame'>\n",
      "RangeIndex: 11562 entries, 0 to 11561\n",
      "Data columns (total 3 columns):\n",
      " #   Column   Non-Null Count  Dtype \n",
      "---  ------   --------------  ----- \n",
      " 0   title    11562 non-null  object\n",
      " 1   author   11562 non-null  object\n",
      " 2   setting  11562 non-null  object\n",
      "dtypes: object(3)\n",
      "memory usage: 271.1+ KB\n"
     ]
    }
   ],
   "source": [
    "setting.info()"
   ]
  },
  {
   "cell_type": "code",
   "execution_count": 54,
   "id": "f8a9458b",
   "metadata": {},
   "outputs": [
    {
     "data": {
      "text/plain": [
       "title                                     author                                \n",
       "\"Slowly, Slowly, Slowly,\" said the Sloth  Eric Carle, Jane Goodall (Foreword by)    1\n",
       "The Black Arrow                           Robert Louis Stevenson                    1\n",
       "The Black Circle                          Patrick Carman (Goodreads Author)         1\n",
       "Name: setting, dtype: int64"
      ]
     },
     "execution_count": 54,
     "metadata": {},
     "output_type": "execute_result"
    }
   ],
   "source": [
    "setting.groupby(['title', 'author'])['setting'].count().sort_values(ascending=False).head(3)"
   ]
  },
  {
   "cell_type": "code",
   "execution_count": 55,
   "id": "27a0e731",
   "metadata": {},
   "outputs": [
    {
     "data": {
      "text/html": [
       "<div>\n",
       "<style scoped>\n",
       "    .dataframe tbody tr th:only-of-type {\n",
       "        vertical-align: middle;\n",
       "    }\n",
       "\n",
       "    .dataframe tbody tr th {\n",
       "        vertical-align: top;\n",
       "    }\n",
       "\n",
       "    .dataframe thead th {\n",
       "        text-align: right;\n",
       "    }\n",
       "</style>\n",
       "<table border=\"1\" class=\"dataframe\">\n",
       "  <thead>\n",
       "    <tr style=\"text-align: right;\">\n",
       "      <th></th>\n",
       "      <th>title</th>\n",
       "      <th>author</th>\n",
       "      <th>setting</th>\n",
       "    </tr>\n",
       "  </thead>\n",
       "  <tbody>\n",
       "    <tr>\n",
       "      <th>0</th>\n",
       "      <td>\"Slowly, Slowly, Slowly,\" said the Sloth</td>\n",
       "      <td>Eric Carle, Jane Goodall (Foreword by)</td>\n",
       "      <td>Amazon Rainforest</td>\n",
       "    </tr>\n",
       "    <tr>\n",
       "      <th>1</th>\n",
       "      <td>#Nerd</td>\n",
       "      <td>Cambria Hebert (Goodreads Author)</td>\n",
       "      <td>Maryland (United States)</td>\n",
       "    </tr>\n",
       "    <tr>\n",
       "      <th>2</th>\n",
       "      <td>#scandal</td>\n",
       "      <td>Sarah Ockler (Goodreads Author)</td>\n",
       "      <td>Lavender Oaks, Colorado (United States)</td>\n",
       "    </tr>\n",
       "    <tr>\n",
       "      <th>3</th>\n",
       "      <td>'Salem's Lot</td>\n",
       "      <td>Stephen King (Goodreads Author)</td>\n",
       "      <td>Jerusalem's Lot, Maine (United States)</td>\n",
       "    </tr>\n",
       "    <tr>\n",
       "      <th>4</th>\n",
       "      <td>'Til Death</td>\n",
       "      <td>Sharon Sala (Goodreads Author)</td>\n",
       "      <td>Kentucky (United States)</td>\n",
       "    </tr>\n",
       "  </tbody>\n",
       "</table>\n",
       "</div>"
      ],
      "text/plain": [
       "                                      title  \\\n",
       "0  \"Slowly, Slowly, Slowly,\" said the Sloth   \n",
       "1                                     #Nerd   \n",
       "2                                  #scandal   \n",
       "3                              'Salem's Lot   \n",
       "4                                'Til Death   \n",
       "\n",
       "                                   author  \\\n",
       "0  Eric Carle, Jane Goodall (Foreword by)   \n",
       "1       Cambria Hebert (Goodreads Author)   \n",
       "2         Sarah Ockler (Goodreads Author)   \n",
       "3         Stephen King (Goodreads Author)   \n",
       "4          Sharon Sala (Goodreads Author)   \n",
       "\n",
       "                                   setting  \n",
       "0                        Amazon Rainforest  \n",
       "1                 Maryland (United States)  \n",
       "2  Lavender Oaks, Colorado (United States)  \n",
       "3   Jerusalem's Lot, Maine (United States)  \n",
       "4                 Kentucky (United States)  "
      ]
     },
     "execution_count": 55,
     "metadata": {},
     "output_type": "execute_result"
    }
   ],
   "source": [
    "# one setting per book line\n",
    "setting = setting.explode('setting')\n",
    "setting.head(5)"
   ]
  },
  {
   "cell_type": "code",
   "execution_count": 56,
   "id": "8115f595",
   "metadata": {},
   "outputs": [],
   "source": [
    "setting.to_csv('docs/setting.csv', index=False)"
   ]
  },
  {
   "cell_type": "markdown",
   "id": "014c1c3f",
   "metadata": {},
   "source": [
    "### 4. awards"
   ]
  },
  {
   "cell_type": "code",
   "execution_count": 57,
   "id": "7c4ab168",
   "metadata": {},
   "outputs": [
    {
     "data": {
      "text/plain": [
       "isbn\n",
       "0000195166000    1\n",
       "9781461107033    1\n",
       "9781461053743    1\n",
       "9781461063520    1\n",
       "9781461065715    1\n",
       "                ..\n",
       "9780440415992    1\n",
       "9780440416432    1\n",
       "9780440416487    1\n",
       "9780440416548    1\n",
       " 978097736462    1\n",
       "Name: awards, Length: 52423, dtype: int64"
      ]
     },
     "execution_count": 57,
     "metadata": {},
     "output_type": "execute_result"
    }
   ],
   "source": [
    "# award table (title, author, award)\n",
    "df09.groupby(['isbn'])['awards'].count().sort_values(ascending=False)"
   ]
  },
  {
   "cell_type": "code",
   "execution_count": 58,
   "id": "22c8fe03",
   "metadata": {},
   "outputs": [
    {
     "name": "stdout",
     "output_type": "stream",
     "text": [
      "<class 'pandas.core.frame.DataFrame'>\n",
      "Int64Index: 52423 entries, 0 to 52477\n",
      "Data columns (total 2 columns):\n",
      " #   Column  Non-Null Count  Dtype \n",
      "---  ------  --------------  ----- \n",
      " 0   isbn    52423 non-null  object\n",
      " 1   awards  52423 non-null  object\n",
      "dtypes: object(2)\n",
      "memory usage: 1.2+ MB\n",
      "<class 'pandas.core.frame.DataFrame'>\n",
      "Int64Index: 10603 entries, 0 to 52475\n",
      "Data columns (total 2 columns):\n",
      " #   Column  Non-Null Count  Dtype \n",
      "---  ------  --------------  ----- \n",
      " 0   isbn    10603 non-null  object\n",
      " 1   awards  10603 non-null  object\n",
      "dtypes: object(2)\n",
      "memory usage: 248.5+ KB\n"
     ]
    }
   ],
   "source": [
    "#award table (isbn, award)\n",
    "award = df09[['isbn', 'awards']]\n",
    "award.info()\n",
    "award = award[award['awards'] != '[]']\n",
    "award.info()"
   ]
  },
  {
   "cell_type": "code",
   "execution_count": 59,
   "id": "68c7f202",
   "metadata": {},
   "outputs": [
    {
     "data": {
      "text/html": [
       "<div>\n",
       "<style scoped>\n",
       "    .dataframe tbody tr th:only-of-type {\n",
       "        vertical-align: middle;\n",
       "    }\n",
       "\n",
       "    .dataframe tbody tr th {\n",
       "        vertical-align: top;\n",
       "    }\n",
       "\n",
       "    .dataframe thead th {\n",
       "        text-align: right;\n",
       "    }\n",
       "</style>\n",
       "<table border=\"1\" class=\"dataframe\">\n",
       "  <thead>\n",
       "    <tr style=\"text-align: right;\">\n",
       "      <th></th>\n",
       "      <th>isbn</th>\n",
       "      <th>awards</th>\n",
       "    </tr>\n",
       "  </thead>\n",
       "  <tbody>\n",
       "    <tr>\n",
       "      <th>0</th>\n",
       "      <td>9780439023481</td>\n",
       "      <td>[Locus Award Nominee for Best Young Adult Book (2009), Georgia Peach Book Award (2009), Buxtehuder Bulle (2009), Golden Duck Award for Young Adult (Hal Clement Award) (2009), Grand Prix de l'Imaginaire Nominee for Roman jeunesse étranger (2010), Books I Loved Best Yearly (BILBY) Awards for Older...</td>\n",
       "    </tr>\n",
       "    <tr>\n",
       "      <th>1</th>\n",
       "      <td>9780439358071</td>\n",
       "      <td>[Bram Stoker Award for Works for Young Readers (2003), Anthony Award for Young Adult (2004), Mythopoeic Fantasy Award for Children's Literature (2008), Audie Award for Audiobook of the Year (2004), Books I Loved Best Yearly (BILBY) Awards for Older Readers (2004), Colorado Blue Spruce Young Adul...</td>\n",
       "    </tr>\n",
       "  </tbody>\n",
       "</table>\n",
       "</div>"
      ],
      "text/plain": [
       "            isbn  \\\n",
       "0  9780439023481   \n",
       "1  9780439358071   \n",
       "\n",
       "                                                                                                                                                                                                                                                                                                        awards  \n",
       "0  [Locus Award Nominee for Best Young Adult Book (2009), Georgia Peach Book Award (2009), Buxtehuder Bulle (2009), Golden Duck Award for Young Adult (Hal Clement Award) (2009), Grand Prix de l'Imaginaire Nominee for Roman jeunesse étranger (2010), Books I Loved Best Yearly (BILBY) Awards for Older...  \n",
       "1  [Bram Stoker Award for Works for Young Readers (2003), Anthony Award for Young Adult (2004), Mythopoeic Fantasy Award for Children's Literature (2008), Audie Award for Audiobook of the Year (2004), Books I Loved Best Yearly (BILBY) Awards for Older Readers (2004), Colorado Blue Spruce Young Adul...  "
      ]
     },
     "execution_count": 59,
     "metadata": {},
     "output_type": "execute_result"
    }
   ],
   "source": [
    "# make it a list\n",
    "award['awards'] = award['awards'].apply(literal_eval)\n",
    "award.head(2)"
   ]
  },
  {
   "cell_type": "code",
   "execution_count": 60,
   "id": "4fea73cd",
   "metadata": {},
   "outputs": [],
   "source": [
    "# Function to get the row with maximum length\n",
    "def get_longest_row(group):\n",
    "    return group.loc[group['awards'].str.len().idxmax()]\n",
    "\n",
    "# Grouping by 'title' and 'author', and selecting the award with maximum , most info\n",
    "award = award.groupby(['isbn']).apply(get_longest_row).reset_index(drop=True)"
   ]
  },
  {
   "cell_type": "code",
   "execution_count": 61,
   "id": "ac4d9703",
   "metadata": {},
   "outputs": [
    {
     "data": {
      "text/html": [
       "<div>\n",
       "<style scoped>\n",
       "    .dataframe tbody tr th:only-of-type {\n",
       "        vertical-align: middle;\n",
       "    }\n",
       "\n",
       "    .dataframe tbody tr th {\n",
       "        vertical-align: top;\n",
       "    }\n",
       "\n",
       "    .dataframe thead th {\n",
       "        text-align: right;\n",
       "    }\n",
       "</style>\n",
       "<table border=\"1\" class=\"dataframe\">\n",
       "  <thead>\n",
       "    <tr style=\"text-align: right;\">\n",
       "      <th></th>\n",
       "      <th>isbn</th>\n",
       "      <th>awards</th>\n",
       "    </tr>\n",
       "  </thead>\n",
       "  <tbody>\n",
       "    <tr>\n",
       "      <th>0</th>\n",
       "      <td>0000195170342</td>\n",
       "      <td>Pulitzer Prize for History (2005)</td>\n",
       "    </tr>\n",
       "    <tr>\n",
       "      <th>0</th>\n",
       "      <td>0000195170342</td>\n",
       "      <td>Ambassador Book Award for American Studies (2005)</td>\n",
       "    </tr>\n",
       "    <tr>\n",
       "      <th>0</th>\n",
       "      <td>0000195170342</td>\n",
       "      <td>Massachusetts Book Award Nominee for Nonfiction (2005)</td>\n",
       "    </tr>\n",
       "    <tr>\n",
       "      <th>0</th>\n",
       "      <td>0000195170342</td>\n",
       "      <td>National Book Award Finalist for Nonfiction (2004)</td>\n",
       "    </tr>\n",
       "    <tr>\n",
       "      <th>1</th>\n",
       "      <td>0031809014745</td>\n",
       "      <td>ECPA Christian Book Award</td>\n",
       "    </tr>\n",
       "  </tbody>\n",
       "</table>\n",
       "</div>"
      ],
      "text/plain": [
       "            isbn                                                  awards\n",
       "0  0000195170342                       Pulitzer Prize for History (2005)\n",
       "0  0000195170342       Ambassador Book Award for American Studies (2005)\n",
       "0  0000195170342  Massachusetts Book Award Nominee for Nonfiction (2005)\n",
       "0  0000195170342      National Book Award Finalist for Nonfiction (2004)\n",
       "1  0031809014745                               ECPA Christian Book Award"
      ]
     },
     "execution_count": 61,
     "metadata": {},
     "output_type": "execute_result"
    }
   ],
   "source": [
    "# one award line per book\n",
    "award = award.explode('awards')\n",
    "award.head(5)"
   ]
  },
  {
   "cell_type": "code",
   "execution_count": 62,
   "id": "82d9b197",
   "metadata": {},
   "outputs": [
    {
     "data": {
      "text/html": [
       "<div>\n",
       "<style scoped>\n",
       "    .dataframe tbody tr th:only-of-type {\n",
       "        vertical-align: middle;\n",
       "    }\n",
       "\n",
       "    .dataframe tbody tr th {\n",
       "        vertical-align: top;\n",
       "    }\n",
       "\n",
       "    .dataframe thead th {\n",
       "        text-align: right;\n",
       "    }\n",
       "</style>\n",
       "<table border=\"1\" class=\"dataframe\">\n",
       "  <thead>\n",
       "    <tr style=\"text-align: right;\">\n",
       "      <th></th>\n",
       "      <th>isbn</th>\n",
       "      <th>award</th>\n",
       "      <th>award_year</th>\n",
       "    </tr>\n",
       "  </thead>\n",
       "  <tbody>\n",
       "  </tbody>\n",
       "</table>\n",
       "</div>"
      ],
      "text/plain": [
       "Empty DataFrame\n",
       "Columns: [isbn, award, award_year]\n",
       "Index: []"
      ]
     },
     "execution_count": 62,
     "metadata": {},
     "output_type": "execute_result"
    }
   ],
   "source": [
    "# Extract award year information\n",
    "awards = award.copy()\n",
    "awards['award'] = awards['awards'].str.extract(r'(.*)\\s\\(\\d{4}\\)$')\n",
    "awards['award_year'] = awards['awards'].str.extract(r'\\((\\d{4})\\)$')\n",
    "awards['award'] = np.where(awards['award'].isna(), awards['awards'], awards['award'])\n",
    "awards = awards.drop(columns='awards')\n",
    "awards[awards['award'].isna()]"
   ]
  },
  {
   "cell_type": "code",
   "execution_count": 63,
   "id": "f7b9f1d7",
   "metadata": {},
   "outputs": [
    {
     "data": {
      "text/html": [
       "<div>\n",
       "<style scoped>\n",
       "    .dataframe tbody tr th:only-of-type {\n",
       "        vertical-align: middle;\n",
       "    }\n",
       "\n",
       "    .dataframe tbody tr th {\n",
       "        vertical-align: top;\n",
       "    }\n",
       "\n",
       "    .dataframe thead th {\n",
       "        text-align: right;\n",
       "    }\n",
       "</style>\n",
       "<table border=\"1\" class=\"dataframe\">\n",
       "  <thead>\n",
       "    <tr style=\"text-align: right;\">\n",
       "      <th></th>\n",
       "      <th>isbn</th>\n",
       "      <th>award</th>\n",
       "      <th>award_year</th>\n",
       "    </tr>\n",
       "  </thead>\n",
       "  <tbody>\n",
       "    <tr>\n",
       "      <th>0</th>\n",
       "      <td>0000195170342</td>\n",
       "      <td>Pulitzer Prize for History</td>\n",
       "      <td>2005</td>\n",
       "    </tr>\n",
       "    <tr>\n",
       "      <th>0</th>\n",
       "      <td>0000195170342</td>\n",
       "      <td>Ambassador Book Award for American Studies</td>\n",
       "      <td>2005</td>\n",
       "    </tr>\n",
       "    <tr>\n",
       "      <th>0</th>\n",
       "      <td>0000195170342</td>\n",
       "      <td>Massachusetts Book Award Nominee for Nonfiction</td>\n",
       "      <td>2005</td>\n",
       "    </tr>\n",
       "  </tbody>\n",
       "</table>\n",
       "</div>"
      ],
      "text/plain": [
       "            isbn                                            award award_year\n",
       "0  0000195170342                       Pulitzer Prize for History       2005\n",
       "0  0000195170342       Ambassador Book Award for American Studies       2005\n",
       "0  0000195170342  Massachusetts Book Award Nominee for Nonfiction       2005"
      ]
     },
     "execution_count": 63,
     "metadata": {},
     "output_type": "execute_result"
    }
   ],
   "source": [
    "awards.head(3)"
   ]
  },
  {
   "cell_type": "code",
   "execution_count": 64,
   "id": "d73e9201",
   "metadata": {},
   "outputs": [],
   "source": [
    "awards.to_csv('docs/award.csv', index=False)"
   ]
  },
  {
   "cell_type": "markdown",
   "id": "bfecd1f9",
   "metadata": {},
   "source": [
    "### 5. star"
   ]
  },
  {
   "cell_type": "code",
   "execution_count": 65,
   "id": "61a4f12b",
   "metadata": {},
   "outputs": [
    {
     "data": {
      "text/plain": [
       "isbn\n",
       "0000195166000    1\n",
       "9781461107033    1\n",
       "9781461053743    1\n",
       "9781461063520    1\n",
       "9781461065715    1\n",
       "                ..\n",
       "9780440415992    1\n",
       "9780440416432    1\n",
       "9780440416487    1\n",
       "9780440416548    1\n",
       " 978097736462    1\n",
       "Name: ratingsByStars, Length: 52423, dtype: int64"
      ]
     },
     "execution_count": 65,
     "metadata": {},
     "output_type": "execute_result"
    }
   ],
   "source": [
    "# star table (isbn, ratingsByStars). We have one value por row.\n",
    "df09.groupby(['isbn'])['ratingsByStars'].count().sort_values(ascending=False)"
   ]
  },
  {
   "cell_type": "code",
   "execution_count": 66,
   "id": "40b6a6ae",
   "metadata": {},
   "outputs": [
    {
     "name": "stdout",
     "output_type": "stream",
     "text": [
      "<class 'pandas.core.frame.DataFrame'>\n",
      "Int64Index: 52423 entries, 0 to 52477\n",
      "Data columns (total 2 columns):\n",
      " #   Column          Non-Null Count  Dtype \n",
      "---  ------          --------------  ----- \n",
      " 0   isbn            52423 non-null  object\n",
      " 1   ratingsByStars  52423 non-null  object\n",
      "dtypes: object(2)\n",
      "memory usage: 1.2+ MB\n",
      "None\n",
      "<class 'pandas.core.frame.DataFrame'>\n",
      "Int64Index: 51001 entries, 0 to 52477\n",
      "Data columns (total 2 columns):\n",
      " #   Column          Non-Null Count  Dtype \n",
      "---  ------          --------------  ----- \n",
      " 0   isbn            51001 non-null  object\n",
      " 1   ratingsByStars  51001 non-null  object\n",
      "dtypes: object(2)\n",
      "memory usage: 1.2+ MB\n"
     ]
    }
   ],
   "source": [
    "# remove empty values\n",
    "star = df09[['isbn', 'ratingsByStars']]\n",
    "print(star.info())\n",
    "star = star[star['ratingsByStars']!= '[]']\n",
    "star.info()"
   ]
  },
  {
   "cell_type": "code",
   "execution_count": 67,
   "id": "e2ed2320",
   "metadata": {},
   "outputs": [
    {
     "data": {
      "text/html": [
       "<div>\n",
       "<style scoped>\n",
       "    .dataframe tbody tr th:only-of-type {\n",
       "        vertical-align: middle;\n",
       "    }\n",
       "\n",
       "    .dataframe tbody tr th {\n",
       "        vertical-align: top;\n",
       "    }\n",
       "\n",
       "    .dataframe thead th {\n",
       "        text-align: right;\n",
       "    }\n",
       "</style>\n",
       "<table border=\"1\" class=\"dataframe\">\n",
       "  <thead>\n",
       "    <tr style=\"text-align: right;\">\n",
       "      <th></th>\n",
       "      <th>isbn</th>\n",
       "      <th>ratingsByStars</th>\n",
       "    </tr>\n",
       "  </thead>\n",
       "  <tbody>\n",
       "    <tr>\n",
       "      <th>0</th>\n",
       "      <td>9780439023481</td>\n",
       "      <td>[3444695, 1921313, 745221, 171994, 93557]</td>\n",
       "    </tr>\n",
       "    <tr>\n",
       "      <th>1</th>\n",
       "      <td>9780439358071</td>\n",
       "      <td>[1593642, 637516, 222366, 39573, 14526]</td>\n",
       "    </tr>\n",
       "  </tbody>\n",
       "</table>\n",
       "</div>"
      ],
      "text/plain": [
       "            isbn                             ratingsByStars\n",
       "0  9780439023481  [3444695, 1921313, 745221, 171994, 93557]\n",
       "1  9780439358071    [1593642, 637516, 222366, 39573, 14526]"
      ]
     },
     "execution_count": 67,
     "metadata": {},
     "output_type": "execute_result"
    }
   ],
   "source": [
    "# make it a list\n",
    "star['ratingsByStars'] = star['ratingsByStars'].apply(literal_eval)\n",
    "star.head(2)"
   ]
  },
  {
   "cell_type": "code",
   "execution_count": 68,
   "id": "d57095b0",
   "metadata": {},
   "outputs": [],
   "source": [
    "# Function to get the row with maximum length\n",
    "def get_longest_row(group):\n",
    "    return group.loc[group['ratingsByStars'].str.len().idxmax()]\n",
    "\n",
    "# Grouping by 'title' and 'author', and selecting the ratingsBySatrs with maximum length, most info\n",
    "star = star.groupby(['isbn']).apply(get_longest_row).reset_index(drop=True)"
   ]
  },
  {
   "cell_type": "code",
   "execution_count": 69,
   "id": "966bc5a1",
   "metadata": {},
   "outputs": [
    {
     "data": {
      "text/html": [
       "<div>\n",
       "<style scoped>\n",
       "    .dataframe tbody tr th:only-of-type {\n",
       "        vertical-align: middle;\n",
       "    }\n",
       "\n",
       "    .dataframe tbody tr th {\n",
       "        vertical-align: top;\n",
       "    }\n",
       "\n",
       "    .dataframe thead th {\n",
       "        text-align: right;\n",
       "    }\n",
       "</style>\n",
       "<table border=\"1\" class=\"dataframe\">\n",
       "  <thead>\n",
       "    <tr style=\"text-align: right;\">\n",
       "      <th></th>\n",
       "      <th>isbn</th>\n",
       "      <th>ratingsByStars</th>\n",
       "      <th>star</th>\n",
       "    </tr>\n",
       "  </thead>\n",
       "  <tbody>\n",
       "    <tr>\n",
       "      <th>0</th>\n",
       "      <td>0000195166000</td>\n",
       "      <td>74</td>\n",
       "      <td>5</td>\n",
       "    </tr>\n",
       "    <tr>\n",
       "      <th>0</th>\n",
       "      <td>0000195166000</td>\n",
       "      <td>92</td>\n",
       "      <td>4</td>\n",
       "    </tr>\n",
       "    <tr>\n",
       "      <th>0</th>\n",
       "      <td>0000195166000</td>\n",
       "      <td>80</td>\n",
       "      <td>3</td>\n",
       "    </tr>\n",
       "    <tr>\n",
       "      <th>0</th>\n",
       "      <td>0000195166000</td>\n",
       "      <td>19</td>\n",
       "      <td>2</td>\n",
       "    </tr>\n",
       "    <tr>\n",
       "      <th>0</th>\n",
       "      <td>0000195166000</td>\n",
       "      <td>7</td>\n",
       "      <td>1</td>\n",
       "    </tr>\n",
       "    <tr>\n",
       "      <th>1</th>\n",
       "      <td>0000195170342</td>\n",
       "      <td>6136</td>\n",
       "      <td>5</td>\n",
       "    </tr>\n",
       "    <tr>\n",
       "      <th>1</th>\n",
       "      <td>0000195170342</td>\n",
       "      <td>4396</td>\n",
       "      <td>4</td>\n",
       "    </tr>\n",
       "    <tr>\n",
       "      <th>1</th>\n",
       "      <td>0000195170342</td>\n",
       "      <td>2255</td>\n",
       "      <td>3</td>\n",
       "    </tr>\n",
       "    <tr>\n",
       "      <th>1</th>\n",
       "      <td>0000195170342</td>\n",
       "      <td>638</td>\n",
       "      <td>2</td>\n",
       "    </tr>\n",
       "    <tr>\n",
       "      <th>1</th>\n",
       "      <td>0000195170342</td>\n",
       "      <td>286</td>\n",
       "      <td>1</td>\n",
       "    </tr>\n",
       "  </tbody>\n",
       "</table>\n",
       "</div>"
      ],
      "text/plain": [
       "            isbn ratingsByStars  star\n",
       "0  0000195166000             74     5\n",
       "0  0000195166000             92     4\n",
       "0  0000195166000             80     3\n",
       "0  0000195166000             19     2\n",
       "0  0000195166000              7     1\n",
       "1  0000195170342           6136     5\n",
       "1  0000195170342           4396     4\n",
       "1  0000195170342           2255     3\n",
       "1  0000195170342            638     2\n",
       "1  0000195170342            286     1"
      ]
     },
     "execution_count": 69,
     "metadata": {},
     "output_type": "execute_result"
    }
   ],
   "source": [
    "# one star line per publication\n",
    "star = star.explode('ratingsByStars')\n",
    "star['star']= -(star.groupby('isbn')['ratingsByStars'].cumcount()-5)\n",
    "star.head(10)"
   ]
  },
  {
   "cell_type": "code",
   "execution_count": 70,
   "id": "88b3e571",
   "metadata": {},
   "outputs": [],
   "source": [
    "star.to_csv('docs/star.csv', index=False)"
   ]
  },
  {
   "cell_type": "markdown",
   "id": "5bb16c58",
   "metadata": {},
   "source": [
    "### 6. publication table"
   ]
  },
  {
   "cell_type": "code",
   "execution_count": 71,
   "id": "97b87598",
   "metadata": {},
   "outputs": [
    {
     "name": "stdout",
     "output_type": "stream",
     "text": [
      "<class 'pandas.core.frame.DataFrame'>\n",
      "Int64Index: 52423 entries, 0 to 52477\n",
      "Data columns (total 18 columns):\n",
      " #   Column        Non-Null Count  Dtype         \n",
      "---  ------        --------------  -----         \n",
      " 0   isbn          52423 non-null  object        \n",
      " 1   bookFormat    50950 non-null  object        \n",
      " 2   publisher     48731 non-null  object        \n",
      " 3   publishDate   50639 non-null  datetime64[ns]\n",
      " 4   description   51087 non-null  object        \n",
      " 5   series        23441 non-null  object        \n",
      " 6   rating        52423 non-null  float64       \n",
      " 7   language      48622 non-null  object        \n",
      " 8   edition       4949 non-null   object        \n",
      " 9   pages         50080 non-null  object        \n",
      " 10  numRatings    52423 non-null  int64         \n",
      " 11  likedPercent  51802 non-null  float64       \n",
      " 12  coverImg      51818 non-null  object        \n",
      " 13  bbeScore      52423 non-null  int64         \n",
      " 14  bbeVotes      52423 non-null  int64         \n",
      " 15  price         38079 non-null  float64       \n",
      " 16  author        52423 non-null  object        \n",
      " 17  title         52423 non-null  object        \n",
      "dtypes: datetime64[ns](1), float64(3), int64(3), object(11)\n",
      "memory usage: 7.6+ MB\n"
     ]
    }
   ],
   "source": [
    "# publication table (isbn,series,rating,description,language,\n",
    "#bookFormat,edition,pages,publisher,publishDate,numRatings ,likedPercent, coverImg,\n",
    "#'bbeScore', 'bbeVotes', 'price')\n",
    "publication = df09[['isbn', 'bookFormat', 'publisher', 'publishDate', 'description', 'series', 'rating',\n",
    "                    'language', 'edition', 'pages', 'numRatings', 'likedPercent', 'coverImg',\n",
    "                    'bbeScore', 'bbeVotes', 'price', 'author', 'title']]\n",
    "publication.info()\n"
   ]
  },
  {
   "cell_type": "code",
   "execution_count": 72,
   "id": "4ec3bdd2",
   "metadata": {},
   "outputs": [],
   "source": [
    "publication.to_csv('docs/publication.csv', index=False)"
   ]
  },
  {
   "cell_type": "code",
   "execution_count": 73,
   "id": "de3440a1",
   "metadata": {},
   "outputs": [
    {
     "data": {
      "text/plain": [
       "Index(['isbn', 'bookFormat', 'publisher', 'publishDate', 'description',\n",
       "       'series', 'rating', 'language', 'edition', 'pages', 'numRatings',\n",
       "       'likedPercent', 'coverImg', 'bbeScore', 'bbeVotes', 'price', 'author',\n",
       "       'title'],\n",
       "      dtype='object')"
      ]
     },
     "execution_count": 73,
     "metadata": {},
     "output_type": "execute_result"
    }
   ],
   "source": [
    "publication.columns\n"
   ]
  },
  {
   "cell_type": "markdown",
   "id": "108bc0e1",
   "metadata": {},
   "source": [
    "#### Please note that `bookId` column was droped and was substituted with `isbn`, `title` and `author`\n",
    "#### as uniquely identifying rows in this dataset.\n",
    "\n",
    "#### New columns `award_year` and `star` was added to better distribute available information.\n"
   ]
  }
 ],
 "metadata": {
  "kernelspec": {
   "display_name": "abenv",
   "language": "python",
   "name": "abenv"
  },
  "language_info": {
   "codemirror_mode": {
    "name": "ipython",
    "version": 3
   },
   "file_extension": ".py",
   "mimetype": "text/x-python",
   "name": "python",
   "nbconvert_exporter": "python",
   "pygments_lexer": "ipython3",
   "version": "3.9.15"
  }
 },
 "nbformat": 4,
 "nbformat_minor": 5
}
